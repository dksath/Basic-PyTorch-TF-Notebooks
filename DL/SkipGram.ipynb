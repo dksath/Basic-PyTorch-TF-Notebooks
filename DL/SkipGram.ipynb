{
 "cells": [
  {
   "cell_type": "markdown",
   "id": "through-glossary",
   "metadata": {},
   "source": [
    "# Homework 9 - Part 2 Notebook\n",
    "\n",
    "In this homework notebook, we will create and train our own SkipGram embedding, by using the short synopsis of the Lion King movie explained to kids in the text.text file.\n",
    "\n",
    "Get familiar with the code and write a small report (2 or 3 pages, idk), with answers to the questions listed at the end of the notebook.\n",
    "\n",
    "**The report must be submitted in PDF format, before April 8th, 11.59pm!**\n",
    "\n",
    "**Sathvik 1004286**"
   ]
  },
  {
   "cell_type": "markdown",
   "id": "featured-saturn",
   "metadata": {},
   "source": [
    "### Imports needed\n",
    "\n",
    "Note, we strongly advise to use a CUDA/GPU machine for this notebook.\n",
    "\n",
    "Technically, this can be done on CPU only, but it will be very slow!\n",
    "\n",
    "If you decide to use it on CPU, you might also have to change some of the .cuda() methods used on torch tensors and models in this notebook!"
   ]
  },
  {
   "cell_type": "code",
   "execution_count": 1,
   "id": "diverse-ivory",
   "metadata": {},
   "outputs": [],
   "source": [
    "import torch\n",
    "from torch.autograd import Variable\n",
    "import torch.nn as nn\n",
    "import torch.optim as optim\n",
    "import torch.nn.functional as F\n",
    "import functools\n",
    "import matplotlib.pyplot as plt\n",
    "CUDA = torch.cuda.is_available()"
   ]
  },
  {
   "cell_type": "markdown",
   "id": "923718d7",
   "metadata": {},
   "source": [
    "### Testing for CUDA\n",
    "\n",
    "We advise running on GPU and setting up CUDA on your machine as it might drastically speed up the running time for this notebook!"
   ]
  },
  {
   "cell_type": "code",
   "execution_count": 2,
   "id": "f80f5c37",
   "metadata": {},
   "outputs": [
    {
     "name": "stdout",
     "output_type": "stream",
     "text": [
      "CUDA is available: True\n"
     ]
    }
   ],
   "source": [
    "# Define device for torch\n",
    "use_cuda = True\n",
    "print(\"CUDA is available:\", torch.cuda.is_available())\n",
    "device = torch.device(\"cuda\" if (use_cuda and torch.cuda.is_available()) else \"cpu\")"
   ]
  },
  {
   "cell_type": "markdown",
   "id": "informed-tattoo",
   "metadata": {},
   "source": [
    "### Step 1. Produce some data based on a given text for training our SkipGram model    \n",
    "\n",
    "The functions below will be used to produce our dataset for training the SkipGram model.\n",
    "\n",
    "The dataset text consists of a short description of the story behing the movie The Lion King, explained in simple terms to kids."
   ]
  },
  {
   "cell_type": "code",
   "execution_count": 3,
   "id": "protected-truth",
   "metadata": {},
   "outputs": [],
   "source": [
    "def text_to_train(text, context_window):\n",
    "    \"\"\"\n",
    "    This function receives the text as a list of words, in lowercase format.\n",
    "    It then returns data, a list of all the possible (x,y) pairs with\n",
    "    - x being the middle word of the sentence of length 2*context_window+1,\n",
    "    - y being a list of 2k words, containing the k preceding words and the k\n",
    "    posterior words.\n",
    "    \"\"\"\n",
    "    \n",
    "    # Get data from list of words in text, using a context window of size k = context_window\n",
    "    data = []\n",
    "    for i in range(context_window, len(text) - context_window):\n",
    "        target = [text[i+e] for e in range(-context_window, context_window+1) if i+e != i]\n",
    "        input_word = text[i]\n",
    "        data.append((input_word, target))\n",
    "        \n",
    "    return data"
   ]
  },
  {
   "cell_type": "code",
   "execution_count": 4,
   "id": "sensitive-preserve",
   "metadata": {},
   "outputs": [],
   "source": [
    "def create_text():\n",
    "    \"\"\"\n",
    "    This function loads the string of text from the text.txt file,\n",
    "    and produces a list of words in string format, as variable text.\n",
    "    \"\"\"\n",
    "    \n",
    "    # Load corpus from file\n",
    "    with open(\"./text.txt\", 'r', encoding=\"utf8\",) as f:\n",
    "        corpus = f.readlines()\n",
    "    f.close()\n",
    "    \n",
    "    # Join corpus into a single string\n",
    "    text = \"\"\n",
    "    for s in corpus:\n",
    "        l = s.split()\n",
    "        for s2 in l:\n",
    "            # Removes all special characters from string\n",
    "            s2 = ''.join(filter(str.isalnum, s2))\n",
    "            s2 += ' '\n",
    "            text += s2.lower()\n",
    "    text = text.split()\n",
    "    \n",
    "    return text"
   ]
  },
  {
   "cell_type": "code",
   "execution_count": 5,
   "id": "identical-heather",
   "metadata": {},
   "outputs": [
    {
     "name": "stdout",
     "output_type": "stream",
     "text": [
      "['the', 'lion', 'king', 'is', 'an', 'animated', 'movie', 'made', 'by', 'walt', 'disney', 'in', '1994', 'it', 'was', 'the', 'most', 'successful', 'animated', 'movie', 'of', 'the', '1990s', 'the', 'movie', 'is', 'about', 'a', 'young', 'lion', 'prince', 'who', 'learns', 'about', 'his', 'role', 'as', 'prince', 'and', 'in', 'the', 'circle', 'of', 'life', 'it', 'is', 'dedicated', 'to', 'frank', 'wells', 'who', 'was', 'the', 'president', 'of', 'the', 'walt', 'disney', 'company', 'and', 'died', 'shortly', 'before', 'the', 'movie', 'was', 'released', 'into', 'theaters', 'on', 'june', '15', '1994', 'it', 'was', 'the', 'first', 'fulllength', 'disney', 'movie', 'to', 'feature', 'no', 'human', 'characters', 'since', 'bambi', 'much', 'of', 'the', 'voice', 'acting', 'work', 'was', 'done', 'by', 'wellknown', 'actors', 'including', 'james', 'earl', 'jones', 'jeremy', 'irons', 'matthew', 'broderick', 'whoopi', 'goldberg', 'rowan', 'atkinson', 'jonathan', 'taylor', 'thomas', 'and', 'nathan', 'lane', 'the', 'lion', 'king', 'is', 'a', 'musical', 'the', 'songs', 'have', 'music', 'by', 'elton', 'john', 'and', 'lyrics', 'by', 'tim', 'rice', 'computer', 'animation', 'was', 'used', 'a', 'lot', 'when', 'making', 'the', 'movie', 'like', 'during', 'the', 'song', 'circle', 'of', 'life', 'and', 'others', 'when', 'they', 'were', 'making', 'it', 'this', 'movie', 'was', 'thought', 'of', 'as', 'just', 'alright', 'compared', 'to', 'the', 'movie', 'they', 'were', 'going', 'to', 'make', 'after', 'that', 'which', 'would', 'be', 'pocahontas', 'the', 'studio', 'released', 'the', 'trailer', 'and', 'found', 'that', 'many', 'people', 'liked', 'it', 'especially', 'the', 'song', 'circle', 'of', 'life', 'when', 'it', 'was', 'released', 'the', 'movie', 'became', 'the', 'most', 'successeful', 'movie', 'worldwide', 'in', 'the', 'united', 'states', 'forrest', 'gump', 'was', 'most', 'successful', 'of', 'that', 'year', 'and', 'the', 'most', 'successful', 'animated', 'feature', 'movie', 'of', 'all', 'time', 'until', 'finding', 'nemo', 'since', 'then', 'shrek', '2', 'has', 'become', 'more', 'successful', 'than', 'finding', 'nemo', 'making', 'the', 'lion', 'king', 'the', 'third', 'most', 'successful', 'the', 'movie', 'was', 'also', 'made', 'into', 'an', 'awardwinning', 'stage', 'musical', 'the', 'stage', 'show', 'first', 'opened', 'on', 'november', '13', '1997', 'in', 'new', 'york', 'city', 'and', 'it', 'was', 'a', 'big', 'success', 'a', 'version', 'opened', 'later', 'in', 'london', 'england', 'many', 'other', 'shows', 'of', 'the', 'lion', 'king', 'have', 'been', 'shown', 'across', 'the', 'world', 'and', 'is', 'one', 'of', 'the', 'uks', 'biggest', 'and', 'most', 'popular', 'shows', 'in', 'the', 'movies', 'opening', 'scene', 'lots', 'of', 'animals', 'and', 'birds', 'gather', 'at', 'pride', 'rock', 'to', 'see', 'simba', 'the', 'new', 'prince', 'who', 'has', 'just', 'been', 'born', 'simba', 'is', 'the', 'son', 'of', 'mufasa', 'and', 'sarabi', 'rafiki', 'picks', 'up', 'simba', 'and', 'lifts', 'him', 'high', 'up', 'so', 'that', 'all', 'of', 'the', 'animals', 'can', 'see', 'the', 'animals', 'celebrate', 'and', 'rejoice', 'but', 'scar', 'mufasas', 'brother', 'is', 'jealous', 'because', 'simba', 'will', 'be', 'king', 'instead', 'of', 'him', 'scar', 'lies', 'to', 'simba', 'about', 'a', 'dangerous', 'place', 'called', 'the', 'elephant', 'graveyard', 'scar', 'says', 'that', 'only', 'brave', 'lions', 'go', 'there', 'causing', 'simba', 'to', 'be', 'interested', 'even', 'though', 'mufasa', 'has', 'forbidden', 'simba', 'from', 'going', 'there', 'simba', 'lies', 'to', 'his', 'mother', 'sarabi', 'about', 'going', 'to', 'the', 'water', 'hole', 'when', 'he', 'is', 'actually', 'going', 'to', 'the', 'elephant', 'graveyard', 'simbas', 'friend', 'nala', 'and', 'zazu', 'the', 'kings', 'messenger', 'go', 'with', 'simba', 'simba', 'and', 'nala', 'trick', 'zazu', 'with', 'the', 'song', 'i', 'just', 'cant', 'wait', 'to', 'be', 'king', 'and', 'run', 'away', 'from', 'him', 'simba', 'and', 'nala', 'find', 'the', 'elephant', 'graveyard', 'but', 'are', 'chased', 'by', 'the', 'three', 'hyenas', 'shenzi', 'banzai', 'and', 'ed', 'mufasa', 'saves', 'his', 'son', 'and', 'nala', 'and', 'takes', 'them', 'both', 'home', 'mufasa', 'speaks', 'to', 'simba', 'alone', 'and', 'explains', 'to', 'simba', 'that', 'being', 'brave', 'is', 'not', 'about', 'looking', 'for', 'danger', 'he', 'also', 'explains', 'that', 'the', 'great', 'kings', 'of', 'the', 'past', 'look', 'down', 'from', 'the', 'stars', 'and', 'watch', 'over', 'simba', 'scar', 'in', 'the', 'elephant', 'graveyard', 'is', 'angry', 'with', 'the', 'hyenas', 'because', 'they', 'did', 'not', 'kill', 'simba', 'it', 'is', 'revealed', 'that', 'the', 'hyenas', 'are', 'working', 'for', 'scar', 'during', 'scars', 'song', 'be', 'prepared', 'the', 'next', 'day', 'scar', 'takes', 'simba', 'into', 'a', 'gorge', 'long', 'deep', 'hole', 'in', 'the', 'ground', 'also', 'known', 'as', 'a', 'valley', 'where', 'he', 'explains', 'that', 'mufasa', 'has', 'a', 'wonderful', 'surprise', 'waiting', 'scar', 'has', 'actually', 'planned', 'a', 'wildebeest', 'stampede', 'with', 'the', 'hyenas', 'simba', 'is', 'trapped', 'in', 'the', 'gorge', 'as', 'the', 'wildebeest', 'run', 'towards', 'him', 'scar', 'tells', 'mufasa', 'that', 'simba', 'is', 'in', 'trouble', 'and', 'mufasa', 'rescues', 'his', 'son', 'scar', 'then', 'throws', 'mufasa', 'into', 'the', 'stampede', 'and', 'mufasa', 'dies', 'scar', 'blames', 'simba', 'for', 'the', 'death', 'of', 'mufasa', 'and', 'simba', 'runs', 'away', 'scar', 'becomes', 'king', 'and', 'tells', 'everyone', 'that', 'simba', 'and', 'mufasa', 'are', 'dead', 'simba', 'runs', 'to', 'a', 'desert', 'and', 'collapses', 'he', 'is', 'rescued', 'by', 'timon', 'the', 'meerkat', 'and', 'pumbaa', 'the', 'warthog', 'timon', 'and', 'pumbaa', 'live', 'in', 'the', 'jungle', 'and', 'are', 'very', 'relaxed', 'which', 'they', 'show', 'in', 'their', 'song', 'hakuna', 'matata', 'timon', 'and', 'pumbaa', 'look', 'after', 'simba', 'until', 'simba', 'is', 'an', 'adult', 'lion', 'one', 'day', 'a', 'lioness', 'female', 'lion', 'comes', 'to', 'the', 'jungle', 'and', 'tries', 'to', 'kill', 'and', 'eat', 'pumbaa', 'simba', 'fights', 'the', 'lioness', 'because', 'he', 'wants', 'to', 'save', 'pumbaas', 'life', 'while', 'the', 'two', 'lions', 'are', 'fighting', 'simba', 'finds', 'out', 'that', 'the', 'lioness', 'is', 'his', 'friend', 'nala', 'they', 'are', 'very', 'happy', 'to', 'see', 'each', 'other', 'and', 'they', 'fall', 'in', 'love', 'nala', 'wants', 'simba', 'to', 'go', 'home', 'and', 'fight', 'scar', 'because', 'scar', 'is', 'a', 'bad', 'king', 'simba', 'will', 'not', 'go', 'home', 'because', 'he', 'thinks', 'that', 'he', 'killed', 'mufasa', 'and', 'he', 'does', 'not', 'want', 'his', 'family', 'to', 'know', 'rafiki', 'comes', 'to', 'the', 'jungle', 'and', 'takes', 'simba', 'to', 'a', 'field', 'in', 'the', 'sky', 'above', 'the', 'field', 'mufasas', 'ghost', 'appears', 'and', 'tells', 'simba', 'that', 'he', 'must', 'go', 'home', 'because', 'simba', 'is', 'the', 'right', 'king', 'after', 'this', 'simba', 'goes', 'home', 'to', 'pride', 'rock', 'nala', 'timon', 'and', 'pumbaa', 'follow', 'him', 'when', 'they', 'get', 'to', 'pride', 'rock', 'they', 'find', 'that', 'the', 'land', 'is', 'dry', 'and', 'the', 'animals', 'have', 'gone', 'at', 'pride', 'rock', 'simba', 'sees', 'scar', 'hitting', 'sarabi', 'this', 'makes', 'simba', 'angry', 'and', 'he', 'tries', 'to', 'make', 'scar', 'leave', 'pride', 'rock', 'scar', 'does', 'not', 'leave', 'and', 'makes', 'simba', 'fall', 'over', 'the', 'edge', 'of', 'pride', 'rock', 'simba', 'does', 'not', 'fall', 'and', 'holds', 'on', 'to', 'the', 'edge', 'scar', 'thinks', 'that', 'he', 'was', 'won', 'so', 'he', 'tells', 'simba', 'the', 'truth', 'about', 'the', 'death', 'of', 'mufasa', 'that', 'scar', 'actually', 'killed', 'mufasa', 'simba', 'is', 'upset', 'and', 'a', 'big', 'fight', 'happens', 'the', 'lionesses', 'fight', 'the', 'hyenas', 'and', 'simba', 'fights', 'scar', 'while', 'the', 'fighting', 'is', 'going', 'on', 'lightning', 'hits', 'a', 'dead', 'tree', 'and', 'starts', 'a', 'fire', 'scar', 'and', 'simba', 'fight', 'on', 'top', 'of', 'pride', 'rock', 'scar', 'does', 'not', 'want', 'to', 'die', 'and', 'lies', 'to', 'simba', 'that', 'the', 'hyenas', 'are', 'to', 'blame', 'for', 'everything', 'another', 'fight', 'happens', 'and', 'simba', 'throws', 'scar', 'over', 'the', 'edge', 'scar', 'does', 'not', 'die', 'after', 'the', 'fall', 'but', 'the', 'hyenas', 'attack', 'and', 'kill', 'him', 'the', 'hyenas', 'are', 'angry', 'that', 'scar', 'blamed', 'them', 'rain', 'falls', 'and', 'puts', 'out', 'the', 'fire', 'simba', 'walks', 'to', 'the', 'top', 'of', 'pride', 'rock', 'and', 'roars', 'much', 'later', 'the', 'animals', 'come', 'back', 'at', 'the', 'end', 'of', 'the', 'movie', 'rafiki', 'picks', 'up', 'simba', 'and', 'nalas', 'daughter', 'and', 'lifts', 'her', 'up', 'high', 'above', 'pride', 'rock', 'so', 'the', 'animals', 'below', 'can', 'see']\n"
     ]
    }
   ],
   "source": [
    "text = create_text()\n",
    "print(text)"
   ]
  },
  {
   "cell_type": "code",
   "execution_count": 6,
   "id": "separate-prayer",
   "metadata": {},
   "outputs": [],
   "source": [
    "def generate_data(text, context_window):\n",
    "    \"\"\"\n",
    "    This function receives the text and context window size.\n",
    "    It produces four outputs:\n",
    "    - vocab, a set containing the words found in text.txt,\n",
    "    without any doublons,\n",
    "    - word2index, a dictionary to convert words to their integer index,\n",
    "    - word2index, a dictionary to convert integer index to their respective words,\n",
    "    - data, containing our (x,y) pairs for training.\n",
    "    \"\"\"\n",
    "    \n",
    "    # Create vocabulary set V\n",
    "    vocab = set(text)\n",
    "    \n",
    "    # Word to index and index 2 word converters\n",
    "    word2index = {w:i for i,w in enumerate(vocab)}\n",
    "    index2word = {i:w for i,w in enumerate(vocab)}\n",
    "    \n",
    "    # Generate data\n",
    "    data = text_to_train(text, context_window)\n",
    "    \n",
    "    return vocab, data, word2index, index2word"
   ]
  },
  {
   "cell_type": "code",
   "execution_count": 7,
   "id": "indie-summer",
   "metadata": {},
   "outputs": [],
   "source": [
    "vocab, data, word2index, index2word = generate_data(text, context_window = 2)"
   ]
  },
  {
   "cell_type": "code",
   "execution_count": 8,
   "id": "presidential-sauce",
   "metadata": {},
   "outputs": [
    {
     "name": "stdout",
     "output_type": "stream",
     "text": [
      "The dataset contains 389 different words.\n"
     ]
    }
   ],
   "source": [
    "print(\"The dataset contains\", len(vocab), \"different words.\")"
   ]
  },
  {
   "cell_type": "code",
   "execution_count": 9,
   "id": "588551ae",
   "metadata": {},
   "outputs": [
    {
     "name": "stdout",
     "output_type": "stream",
     "text": [
      "The dadatset contains the following words:\n",
      "{'irons', 'be', 'animation', 'thinks', 'starts', 'on', 'people', 'jones', 'fighting', 'forrest', 'up', 'very', 'meerkat', 'see', 'lifts', 'falls', 'they', 'into', 'during', 'speaks', 'lion', 'their', 'long', 'desert', 'opened', 'below', 'ed', 'june', 'compared', 'must', 'where', 'alone', 'rain', 'both', 'until', 'attack', 'roars', 'goldberg', 'everything', 'want', 'collapses', 'finds', 'big', 'music', 'york', 'shows', 'to', 'fight', '2', 'banzai', 'sees', 'success', 'explains', 'john', 'at', 'released', 'have', 'field', 'them', 'songs', 'awardwinning', 'chased', 'city', 'rescued', 'hakuna', 'high', 'fights', 'picks', 'human', 'there', 'planned', 'waiting', 'shrek', 'blames', 'saves', 'brother', 'lies', 'lightning', 'from', 'working', 'two', 'but', 'with', 'celebrate', 'won', 'who', 'rafiki', 'valley', 'computer', 'wonderful', 'circle', 'away', 'gather', 'makes', 'die', 'lane', 'then', 'tree', 'warthog', 'elephant', 'love', 'wait', 'would', 'hitting', 'rejoice', 'relaxed', 'a', 'for', 'taylor', 'acting', 'lionesses', 'matata', 'found', 'because', 'down', 'causing', 'hole', 'show', 'live', 'sarabi', 'whoopi', 'shenzi', 'song', 'tells', 'before', 'made', 'known', 'making', 'prince', 'though', 'dangerous', 'done', 'brave', 'just', 'trailer', 'truth', 'much', 'holds', 'theaters', 'finding', 'earl', 'end', 'upset', 'dead', 'says', 'danger', 'ground', 'thomas', 'female', 'throws', 'another', 'great', 'were', 'forbidden', 'each', 'lot', 'has', 'studio', 'jungle', 'angry', 'make', 'actually', 'go', 'wants', 'time', 'born', 'it', 'also', 'come', 'work', 'fire', 'pocahontas', 'no', 'mufasas', 'him', 'instead', 'scars', 'next', 'out', 'nala', 'successful', 'not', 'follow', 'run', 'prepared', 'land', 'bad', 'company', 'rock', 'scar', 'life', 'simba', 'wildebeest', 'deep', 'disney', 'as', 'stage', 'dedicated', 'trouble', 'killed', 'happens', 'takes', 'walks', 'going', 'water', '1997', 'becomes', 'happy', 'one', 'only', 'musical', 'stars', 'runs', 'trick', 'he', 'are', 'world', '1994', 'home', 'blame', 'right', 'pride', 'that', 'voice', 'animated', '13', 'broderick', 'will', 'when', 'hits', 'jealous', 'kill', 'mufasa', 'others', 'more', 'about', 'since', 'of', 'find', 'first', 'many', 'characters', 'three', 'graveyard', 'simbas', 'sky', 'daughter', 'uks', 'cant', 'dies', 'james', 'lions', 'role', 'ghost', 'new', 'kings', 'blamed', 'everyone', 'tries', 'death', 'this', 'looking', 'friend', 'all', 'even', 'back', '15', 'his', 'fulllength', 'frank', 'biggest', 'leave', 'lioness', 'jeremy', 'most', 'movies', 'comes', 'gorge', 'gump', 'hyenas', 'matthew', 'place', 'appears', 'lots', 'pumbaas', 'know', 'used', 'actors', 'an', 'messenger', 'the', 'get', 'bambi', 'by', 'opening', 'goes', 'in', 'mother', 'puts', 'rice', 'movie', 'stampede', 'atkinson', 'states', 'november', 'scene', 'london', 'elton', 'popular', 'which', 'third', 'pumbaa', 'died', 'top', 'save', 'being', 'interested', 'rescues', 'including', 'watch', 'worldwide', 'wellknown', 'so', 'feature', 'tim', 'other', 'gone', 'president', 'towards', 'over', 'animals', 'trapped', 'king', 'is', 'year', 'especially', 'birds', 'called', 'fall', 'look', 'family', 'alright', 'after', 'timon', 'i', 'nemo', 'past', 'shown', 'than', 'walt', 'edge', 'dry', 'thought', 'nathan', 'wells', 'adult', 'liked', 'across', '1990s', 'jonathan', 'her', 'son', 'above', 'did', 'version', 'does', 'was', 'day', 'rowan', 'united', 'zazu', 'while', 'nalas', 'eat', 'young', 'can', 'learns', 'england', 'like', 'successeful', 'and', 'become', 'surprise', 'shortly', 'became', 'lyrics', 'later', 'revealed', 'been'}\n"
     ]
    }
   ],
   "source": [
    "print(\"The dadatset contains the following words:\")\n",
    "print(vocab)"
   ]
  },
  {
   "cell_type": "code",
   "execution_count": 10,
   "id": "statewide-passion",
   "metadata": {},
   "outputs": [
    {
     "name": "stdout",
     "output_type": "stream",
     "text": [
      "{'irons': 0, 'be': 1, 'animation': 2, 'thinks': 3, 'starts': 4, 'on': 5, 'people': 6, 'jones': 7, 'fighting': 8, 'forrest': 9, 'up': 10, 'very': 11, 'meerkat': 12, 'see': 13, 'lifts': 14, 'falls': 15, 'they': 16, 'into': 17, 'during': 18, 'speaks': 19, 'lion': 20, 'their': 21, 'long': 22, 'desert': 23, 'opened': 24, 'below': 25, 'ed': 26, 'june': 27, 'compared': 28, 'must': 29, 'where': 30, 'alone': 31, 'rain': 32, 'both': 33, 'until': 34, 'attack': 35, 'roars': 36, 'goldberg': 37, 'everything': 38, 'want': 39, 'collapses': 40, 'finds': 41, 'big': 42, 'music': 43, 'york': 44, 'shows': 45, 'to': 46, 'fight': 47, '2': 48, 'banzai': 49, 'sees': 50, 'success': 51, 'explains': 52, 'john': 53, 'at': 54, 'released': 55, 'have': 56, 'field': 57, 'them': 58, 'songs': 59, 'awardwinning': 60, 'chased': 61, 'city': 62, 'rescued': 63, 'hakuna': 64, 'high': 65, 'fights': 66, 'picks': 67, 'human': 68, 'there': 69, 'planned': 70, 'waiting': 71, 'shrek': 72, 'blames': 73, 'saves': 74, 'brother': 75, 'lies': 76, 'lightning': 77, 'from': 78, 'working': 79, 'two': 80, 'but': 81, 'with': 82, 'celebrate': 83, 'won': 84, 'who': 85, 'rafiki': 86, 'valley': 87, 'computer': 88, 'wonderful': 89, 'circle': 90, 'away': 91, 'gather': 92, 'makes': 93, 'die': 94, 'lane': 95, 'then': 96, 'tree': 97, 'warthog': 98, 'elephant': 99, 'love': 100, 'wait': 101, 'would': 102, 'hitting': 103, 'rejoice': 104, 'relaxed': 105, 'a': 106, 'for': 107, 'taylor': 108, 'acting': 109, 'lionesses': 110, 'matata': 111, 'found': 112, 'because': 113, 'down': 114, 'causing': 115, 'hole': 116, 'show': 117, 'live': 118, 'sarabi': 119, 'whoopi': 120, 'shenzi': 121, 'song': 122, 'tells': 123, 'before': 124, 'made': 125, 'known': 126, 'making': 127, 'prince': 128, 'though': 129, 'dangerous': 130, 'done': 131, 'brave': 132, 'just': 133, 'trailer': 134, 'truth': 135, 'much': 136, 'holds': 137, 'theaters': 138, 'finding': 139, 'earl': 140, 'end': 141, 'upset': 142, 'dead': 143, 'says': 144, 'danger': 145, 'ground': 146, 'thomas': 147, 'female': 148, 'throws': 149, 'another': 150, 'great': 151, 'were': 152, 'forbidden': 153, 'each': 154, 'lot': 155, 'has': 156, 'studio': 157, 'jungle': 158, 'angry': 159, 'make': 160, 'actually': 161, 'go': 162, 'wants': 163, 'time': 164, 'born': 165, 'it': 166, 'also': 167, 'come': 168, 'work': 169, 'fire': 170, 'pocahontas': 171, 'no': 172, 'mufasas': 173, 'him': 174, 'instead': 175, 'scars': 176, 'next': 177, 'out': 178, 'nala': 179, 'successful': 180, 'not': 181, 'follow': 182, 'run': 183, 'prepared': 184, 'land': 185, 'bad': 186, 'company': 187, 'rock': 188, 'scar': 189, 'life': 190, 'simba': 191, 'wildebeest': 192, 'deep': 193, 'disney': 194, 'as': 195, 'stage': 196, 'dedicated': 197, 'trouble': 198, 'killed': 199, 'happens': 200, 'takes': 201, 'walks': 202, 'going': 203, 'water': 204, '1997': 205, 'becomes': 206, 'happy': 207, 'one': 208, 'only': 209, 'musical': 210, 'stars': 211, 'runs': 212, 'trick': 213, 'he': 214, 'are': 215, 'world': 216, '1994': 217, 'home': 218, 'blame': 219, 'right': 220, 'pride': 221, 'that': 222, 'voice': 223, 'animated': 224, '13': 225, 'broderick': 226, 'will': 227, 'when': 228, 'hits': 229, 'jealous': 230, 'kill': 231, 'mufasa': 232, 'others': 233, 'more': 234, 'about': 235, 'since': 236, 'of': 237, 'find': 238, 'first': 239, 'many': 240, 'characters': 241, 'three': 242, 'graveyard': 243, 'simbas': 244, 'sky': 245, 'daughter': 246, 'uks': 247, 'cant': 248, 'dies': 249, 'james': 250, 'lions': 251, 'role': 252, 'ghost': 253, 'new': 254, 'kings': 255, 'blamed': 256, 'everyone': 257, 'tries': 258, 'death': 259, 'this': 260, 'looking': 261, 'friend': 262, 'all': 263, 'even': 264, 'back': 265, '15': 266, 'his': 267, 'fulllength': 268, 'frank': 269, 'biggest': 270, 'leave': 271, 'lioness': 272, 'jeremy': 273, 'most': 274, 'movies': 275, 'comes': 276, 'gorge': 277, 'gump': 278, 'hyenas': 279, 'matthew': 280, 'place': 281, 'appears': 282, 'lots': 283, 'pumbaas': 284, 'know': 285, 'used': 286, 'actors': 287, 'an': 288, 'messenger': 289, 'the': 290, 'get': 291, 'bambi': 292, 'by': 293, 'opening': 294, 'goes': 295, 'in': 296, 'mother': 297, 'puts': 298, 'rice': 299, 'movie': 300, 'stampede': 301, 'atkinson': 302, 'states': 303, 'november': 304, 'scene': 305, 'london': 306, 'elton': 307, 'popular': 308, 'which': 309, 'third': 310, 'pumbaa': 311, 'died': 312, 'top': 313, 'save': 314, 'being': 315, 'interested': 316, 'rescues': 317, 'including': 318, 'watch': 319, 'worldwide': 320, 'wellknown': 321, 'so': 322, 'feature': 323, 'tim': 324, 'other': 325, 'gone': 326, 'president': 327, 'towards': 328, 'over': 329, 'animals': 330, 'trapped': 331, 'king': 332, 'is': 333, 'year': 334, 'especially': 335, 'birds': 336, 'called': 337, 'fall': 338, 'look': 339, 'family': 340, 'alright': 341, 'after': 342, 'timon': 343, 'i': 344, 'nemo': 345, 'past': 346, 'shown': 347, 'than': 348, 'walt': 349, 'edge': 350, 'dry': 351, 'thought': 352, 'nathan': 353, 'wells': 354, 'adult': 355, 'liked': 356, 'across': 357, '1990s': 358, 'jonathan': 359, 'her': 360, 'son': 361, 'above': 362, 'did': 363, 'version': 364, 'does': 365, 'was': 366, 'day': 367, 'rowan': 368, 'united': 369, 'zazu': 370, 'while': 371, 'nalas': 372, 'eat': 373, 'young': 374, 'can': 375, 'learns': 376, 'england': 377, 'like': 378, 'successeful': 379, 'and': 380, 'become': 381, 'surprise': 382, 'shortly': 383, 'became': 384, 'lyrics': 385, 'later': 386, 'revealed': 387, 'been': 388}\n"
     ]
    }
   ],
   "source": [
    "print(word2index)"
   ]
  },
  {
   "cell_type": "code",
   "execution_count": 11,
   "id": "unique-profession",
   "metadata": {},
   "outputs": [
    {
     "name": "stdout",
     "output_type": "stream",
     "text": [
      "{0: 'irons', 1: 'be', 2: 'animation', 3: 'thinks', 4: 'starts', 5: 'on', 6: 'people', 7: 'jones', 8: 'fighting', 9: 'forrest', 10: 'up', 11: 'very', 12: 'meerkat', 13: 'see', 14: 'lifts', 15: 'falls', 16: 'they', 17: 'into', 18: 'during', 19: 'speaks', 20: 'lion', 21: 'their', 22: 'long', 23: 'desert', 24: 'opened', 25: 'below', 26: 'ed', 27: 'june', 28: 'compared', 29: 'must', 30: 'where', 31: 'alone', 32: 'rain', 33: 'both', 34: 'until', 35: 'attack', 36: 'roars', 37: 'goldberg', 38: 'everything', 39: 'want', 40: 'collapses', 41: 'finds', 42: 'big', 43: 'music', 44: 'york', 45: 'shows', 46: 'to', 47: 'fight', 48: '2', 49: 'banzai', 50: 'sees', 51: 'success', 52: 'explains', 53: 'john', 54: 'at', 55: 'released', 56: 'have', 57: 'field', 58: 'them', 59: 'songs', 60: 'awardwinning', 61: 'chased', 62: 'city', 63: 'rescued', 64: 'hakuna', 65: 'high', 66: 'fights', 67: 'picks', 68: 'human', 69: 'there', 70: 'planned', 71: 'waiting', 72: 'shrek', 73: 'blames', 74: 'saves', 75: 'brother', 76: 'lies', 77: 'lightning', 78: 'from', 79: 'working', 80: 'two', 81: 'but', 82: 'with', 83: 'celebrate', 84: 'won', 85: 'who', 86: 'rafiki', 87: 'valley', 88: 'computer', 89: 'wonderful', 90: 'circle', 91: 'away', 92: 'gather', 93: 'makes', 94: 'die', 95: 'lane', 96: 'then', 97: 'tree', 98: 'warthog', 99: 'elephant', 100: 'love', 101: 'wait', 102: 'would', 103: 'hitting', 104: 'rejoice', 105: 'relaxed', 106: 'a', 107: 'for', 108: 'taylor', 109: 'acting', 110: 'lionesses', 111: 'matata', 112: 'found', 113: 'because', 114: 'down', 115: 'causing', 116: 'hole', 117: 'show', 118: 'live', 119: 'sarabi', 120: 'whoopi', 121: 'shenzi', 122: 'song', 123: 'tells', 124: 'before', 125: 'made', 126: 'known', 127: 'making', 128: 'prince', 129: 'though', 130: 'dangerous', 131: 'done', 132: 'brave', 133: 'just', 134: 'trailer', 135: 'truth', 136: 'much', 137: 'holds', 138: 'theaters', 139: 'finding', 140: 'earl', 141: 'end', 142: 'upset', 143: 'dead', 144: 'says', 145: 'danger', 146: 'ground', 147: 'thomas', 148: 'female', 149: 'throws', 150: 'another', 151: 'great', 152: 'were', 153: 'forbidden', 154: 'each', 155: 'lot', 156: 'has', 157: 'studio', 158: 'jungle', 159: 'angry', 160: 'make', 161: 'actually', 162: 'go', 163: 'wants', 164: 'time', 165: 'born', 166: 'it', 167: 'also', 168: 'come', 169: 'work', 170: 'fire', 171: 'pocahontas', 172: 'no', 173: 'mufasas', 174: 'him', 175: 'instead', 176: 'scars', 177: 'next', 178: 'out', 179: 'nala', 180: 'successful', 181: 'not', 182: 'follow', 183: 'run', 184: 'prepared', 185: 'land', 186: 'bad', 187: 'company', 188: 'rock', 189: 'scar', 190: 'life', 191: 'simba', 192: 'wildebeest', 193: 'deep', 194: 'disney', 195: 'as', 196: 'stage', 197: 'dedicated', 198: 'trouble', 199: 'killed', 200: 'happens', 201: 'takes', 202: 'walks', 203: 'going', 204: 'water', 205: '1997', 206: 'becomes', 207: 'happy', 208: 'one', 209: 'only', 210: 'musical', 211: 'stars', 212: 'runs', 213: 'trick', 214: 'he', 215: 'are', 216: 'world', 217: '1994', 218: 'home', 219: 'blame', 220: 'right', 221: 'pride', 222: 'that', 223: 'voice', 224: 'animated', 225: '13', 226: 'broderick', 227: 'will', 228: 'when', 229: 'hits', 230: 'jealous', 231: 'kill', 232: 'mufasa', 233: 'others', 234: 'more', 235: 'about', 236: 'since', 237: 'of', 238: 'find', 239: 'first', 240: 'many', 241: 'characters', 242: 'three', 243: 'graveyard', 244: 'simbas', 245: 'sky', 246: 'daughter', 247: 'uks', 248: 'cant', 249: 'dies', 250: 'james', 251: 'lions', 252: 'role', 253: 'ghost', 254: 'new', 255: 'kings', 256: 'blamed', 257: 'everyone', 258: 'tries', 259: 'death', 260: 'this', 261: 'looking', 262: 'friend', 263: 'all', 264: 'even', 265: 'back', 266: '15', 267: 'his', 268: 'fulllength', 269: 'frank', 270: 'biggest', 271: 'leave', 272: 'lioness', 273: 'jeremy', 274: 'most', 275: 'movies', 276: 'comes', 277: 'gorge', 278: 'gump', 279: 'hyenas', 280: 'matthew', 281: 'place', 282: 'appears', 283: 'lots', 284: 'pumbaas', 285: 'know', 286: 'used', 287: 'actors', 288: 'an', 289: 'messenger', 290: 'the', 291: 'get', 292: 'bambi', 293: 'by', 294: 'opening', 295: 'goes', 296: 'in', 297: 'mother', 298: 'puts', 299: 'rice', 300: 'movie', 301: 'stampede', 302: 'atkinson', 303: 'states', 304: 'november', 305: 'scene', 306: 'london', 307: 'elton', 308: 'popular', 309: 'which', 310: 'third', 311: 'pumbaa', 312: 'died', 313: 'top', 314: 'save', 315: 'being', 316: 'interested', 317: 'rescues', 318: 'including', 319: 'watch', 320: 'worldwide', 321: 'wellknown', 322: 'so', 323: 'feature', 324: 'tim', 325: 'other', 326: 'gone', 327: 'president', 328: 'towards', 329: 'over', 330: 'animals', 331: 'trapped', 332: 'king', 333: 'is', 334: 'year', 335: 'especially', 336: 'birds', 337: 'called', 338: 'fall', 339: 'look', 340: 'family', 341: 'alright', 342: 'after', 343: 'timon', 344: 'i', 345: 'nemo', 346: 'past', 347: 'shown', 348: 'than', 349: 'walt', 350: 'edge', 351: 'dry', 352: 'thought', 353: 'nathan', 354: 'wells', 355: 'adult', 356: 'liked', 357: 'across', 358: '1990s', 359: 'jonathan', 360: 'her', 361: 'son', 362: 'above', 363: 'did', 364: 'version', 365: 'does', 366: 'was', 367: 'day', 368: 'rowan', 369: 'united', 370: 'zazu', 371: 'while', 372: 'nalas', 373: 'eat', 374: 'young', 375: 'can', 376: 'learns', 377: 'england', 378: 'like', 379: 'successeful', 380: 'and', 381: 'become', 382: 'surprise', 383: 'shortly', 384: 'became', 385: 'lyrics', 386: 'later', 387: 'revealed', 388: 'been'}\n"
     ]
    }
   ],
   "source": [
    "print(index2word)"
   ]
  },
  {
   "cell_type": "code",
   "execution_count": 12,
   "id": "unavailable-banks",
   "metadata": {},
   "outputs": [
    {
     "name": "stdout",
     "output_type": "stream",
     "text": [
      "[('king', ['the', 'lion', 'is', 'an']), ('is', ['lion', 'king', 'an', 'animated']), ('an', ['king', 'is', 'animated', 'movie']), ('animated', ['is', 'an', 'movie', 'made']), ('movie', ['an', 'animated', 'made', 'by']), ('made', ['animated', 'movie', 'by', 'walt']), ('by', ['movie', 'made', 'walt', 'disney']), ('walt', ['made', 'by', 'disney', 'in']), ('disney', ['by', 'walt', 'in', '1994']), ('in', ['walt', 'disney', '1994', 'it']), ('1994', ['disney', 'in', 'it', 'was']), ('it', ['in', '1994', 'was', 'the']), ('was', ['1994', 'it', 'the', 'most']), ('the', ['it', 'was', 'most', 'successful']), ('most', ['was', 'the', 'successful', 'animated']), ('successful', ['the', 'most', 'animated', 'movie']), ('animated', ['most', 'successful', 'movie', 'of']), ('movie', ['successful', 'animated', 'of', 'the']), ('of', ['animated', 'movie', 'the', '1990s']), ('the', ['movie', 'of', '1990s', 'the']), ('1990s', ['of', 'the', 'the', 'movie']), ('the', ['the', '1990s', 'movie', 'is']), ('movie', ['1990s', 'the', 'is', 'about']), ('is', ['the', 'movie', 'about', 'a']), ('about', ['movie', 'is', 'a', 'young']), ('a', ['is', 'about', 'young', 'lion']), ('young', ['about', 'a', 'lion', 'prince']), ('lion', ['a', 'young', 'prince', 'who']), ('prince', ['young', 'lion', 'who', 'learns']), ('who', ['lion', 'prince', 'learns', 'about']), ('learns', ['prince', 'who', 'about', 'his']), ('about', ['who', 'learns', 'his', 'role']), ('his', ['learns', 'about', 'role', 'as']), ('role', ['about', 'his', 'as', 'prince']), ('as', ['his', 'role', 'prince', 'and']), ('prince', ['role', 'as', 'and', 'in']), ('and', ['as', 'prince', 'in', 'the']), ('in', ['prince', 'and', 'the', 'circle']), ('the', ['and', 'in', 'circle', 'of']), ('circle', ['in', 'the', 'of', 'life']), ('of', ['the', 'circle', 'life', 'it']), ('life', ['circle', 'of', 'it', 'is']), ('it', ['of', 'life', 'is', 'dedicated']), ('is', ['life', 'it', 'dedicated', 'to']), ('dedicated', ['it', 'is', 'to', 'frank']), ('to', ['is', 'dedicated', 'frank', 'wells']), ('frank', ['dedicated', 'to', 'wells', 'who']), ('wells', ['to', 'frank', 'who', 'was']), ('who', ['frank', 'wells', 'was', 'the']), ('was', ['wells', 'who', 'the', 'president']), ('the', ['who', 'was', 'president', 'of']), ('president', ['was', 'the', 'of', 'the']), ('of', ['the', 'president', 'the', 'walt']), ('the', ['president', 'of', 'walt', 'disney']), ('walt', ['of', 'the', 'disney', 'company']), ('disney', ['the', 'walt', 'company', 'and']), ('company', ['walt', 'disney', 'and', 'died']), ('and', ['disney', 'company', 'died', 'shortly']), ('died', ['company', 'and', 'shortly', 'before']), ('shortly', ['and', 'died', 'before', 'the']), ('before', ['died', 'shortly', 'the', 'movie']), ('the', ['shortly', 'before', 'movie', 'was']), ('movie', ['before', 'the', 'was', 'released']), ('was', ['the', 'movie', 'released', 'into']), ('released', ['movie', 'was', 'into', 'theaters']), ('into', ['was', 'released', 'theaters', 'on']), ('theaters', ['released', 'into', 'on', 'june']), ('on', ['into', 'theaters', 'june', '15']), ('june', ['theaters', 'on', '15', '1994']), ('15', ['on', 'june', '1994', 'it']), ('1994', ['june', '15', 'it', 'was']), ('it', ['15', '1994', 'was', 'the']), ('was', ['1994', 'it', 'the', 'first']), ('the', ['it', 'was', 'first', 'fulllength']), ('first', ['was', 'the', 'fulllength', 'disney']), ('fulllength', ['the', 'first', 'disney', 'movie']), ('disney', ['first', 'fulllength', 'movie', 'to']), ('movie', ['fulllength', 'disney', 'to', 'feature']), ('to', ['disney', 'movie', 'feature', 'no']), ('feature', ['movie', 'to', 'no', 'human']), ('no', ['to', 'feature', 'human', 'characters']), ('human', ['feature', 'no', 'characters', 'since']), ('characters', ['no', 'human', 'since', 'bambi']), ('since', ['human', 'characters', 'bambi', 'much']), ('bambi', ['characters', 'since', 'much', 'of']), ('much', ['since', 'bambi', 'of', 'the']), ('of', ['bambi', 'much', 'the', 'voice']), ('the', ['much', 'of', 'voice', 'acting']), ('voice', ['of', 'the', 'acting', 'work']), ('acting', ['the', 'voice', 'work', 'was']), ('work', ['voice', 'acting', 'was', 'done']), ('was', ['acting', 'work', 'done', 'by']), ('done', ['work', 'was', 'by', 'wellknown']), ('by', ['was', 'done', 'wellknown', 'actors']), ('wellknown', ['done', 'by', 'actors', 'including']), ('actors', ['by', 'wellknown', 'including', 'james']), ('including', ['wellknown', 'actors', 'james', 'earl']), ('james', ['actors', 'including', 'earl', 'jones']), ('earl', ['including', 'james', 'jones', 'jeremy']), ('jones', ['james', 'earl', 'jeremy', 'irons']), ('jeremy', ['earl', 'jones', 'irons', 'matthew']), ('irons', ['jones', 'jeremy', 'matthew', 'broderick']), ('matthew', ['jeremy', 'irons', 'broderick', 'whoopi']), ('broderick', ['irons', 'matthew', 'whoopi', 'goldberg']), ('whoopi', ['matthew', 'broderick', 'goldberg', 'rowan']), ('goldberg', ['broderick', 'whoopi', 'rowan', 'atkinson']), ('rowan', ['whoopi', 'goldberg', 'atkinson', 'jonathan']), ('atkinson', ['goldberg', 'rowan', 'jonathan', 'taylor']), ('jonathan', ['rowan', 'atkinson', 'taylor', 'thomas']), ('taylor', ['atkinson', 'jonathan', 'thomas', 'and']), ('thomas', ['jonathan', 'taylor', 'and', 'nathan']), ('and', ['taylor', 'thomas', 'nathan', 'lane']), ('nathan', ['thomas', 'and', 'lane', 'the']), ('lane', ['and', 'nathan', 'the', 'lion']), ('the', ['nathan', 'lane', 'lion', 'king']), ('lion', ['lane', 'the', 'king', 'is']), ('king', ['the', 'lion', 'is', 'a']), ('is', ['lion', 'king', 'a', 'musical']), ('a', ['king', 'is', 'musical', 'the']), ('musical', ['is', 'a', 'the', 'songs']), ('the', ['a', 'musical', 'songs', 'have']), ('songs', ['musical', 'the', 'have', 'music']), ('have', ['the', 'songs', 'music', 'by']), ('music', ['songs', 'have', 'by', 'elton']), ('by', ['have', 'music', 'elton', 'john']), ('elton', ['music', 'by', 'john', 'and']), ('john', ['by', 'elton', 'and', 'lyrics']), ('and', ['elton', 'john', 'lyrics', 'by']), ('lyrics', ['john', 'and', 'by', 'tim']), ('by', ['and', 'lyrics', 'tim', 'rice']), ('tim', ['lyrics', 'by', 'rice', 'computer']), ('rice', ['by', 'tim', 'computer', 'animation']), ('computer', ['tim', 'rice', 'animation', 'was']), ('animation', ['rice', 'computer', 'was', 'used']), ('was', ['computer', 'animation', 'used', 'a']), ('used', ['animation', 'was', 'a', 'lot']), ('a', ['was', 'used', 'lot', 'when']), ('lot', ['used', 'a', 'when', 'making']), ('when', ['a', 'lot', 'making', 'the']), ('making', ['lot', 'when', 'the', 'movie']), ('the', ['when', 'making', 'movie', 'like']), ('movie', ['making', 'the', 'like', 'during']), ('like', ['the', 'movie', 'during', 'the']), ('during', ['movie', 'like', 'the', 'song']), ('the', ['like', 'during', 'song', 'circle']), ('song', ['during', 'the', 'circle', 'of']), ('circle', ['the', 'song', 'of', 'life']), ('of', ['song', 'circle', 'life', 'and']), ('life', ['circle', 'of', 'and', 'others']), ('and', ['of', 'life', 'others', 'when']), ('others', ['life', 'and', 'when', 'they']), ('when', ['and', 'others', 'they', 'were']), ('they', ['others', 'when', 'were', 'making']), ('were', ['when', 'they', 'making', 'it']), ('making', ['they', 'were', 'it', 'this']), ('it', ['were', 'making', 'this', 'movie']), ('this', ['making', 'it', 'movie', 'was']), ('movie', ['it', 'this', 'was', 'thought']), ('was', ['this', 'movie', 'thought', 'of']), ('thought', ['movie', 'was', 'of', 'as']), ('of', ['was', 'thought', 'as', 'just']), ('as', ['thought', 'of', 'just', 'alright']), ('just', ['of', 'as', 'alright', 'compared']), ('alright', ['as', 'just', 'compared', 'to']), ('compared', ['just', 'alright', 'to', 'the']), ('to', ['alright', 'compared', 'the', 'movie']), ('the', ['compared', 'to', 'movie', 'they']), ('movie', ['to', 'the', 'they', 'were']), ('they', ['the', 'movie', 'were', 'going']), ('were', ['movie', 'they', 'going', 'to']), ('going', ['they', 'were', 'to', 'make']), ('to', ['were', 'going', 'make', 'after']), ('make', ['going', 'to', 'after', 'that']), ('after', ['to', 'make', 'that', 'which']), ('that', ['make', 'after', 'which', 'would']), ('which', ['after', 'that', 'would', 'be']), ('would', ['that', 'which', 'be', 'pocahontas']), ('be', ['which', 'would', 'pocahontas', 'the']), ('pocahontas', ['would', 'be', 'the', 'studio']), ('the', ['be', 'pocahontas', 'studio', 'released']), ('studio', ['pocahontas', 'the', 'released', 'the']), ('released', ['the', 'studio', 'the', 'trailer']), ('the', ['studio', 'released', 'trailer', 'and']), ('trailer', ['released', 'the', 'and', 'found']), ('and', ['the', 'trailer', 'found', 'that']), ('found', ['trailer', 'and', 'that', 'many']), ('that', ['and', 'found', 'many', 'people']), ('many', ['found', 'that', 'people', 'liked']), ('people', ['that', 'many', 'liked', 'it']), ('liked', ['many', 'people', 'it', 'especially']), ('it', ['people', 'liked', 'especially', 'the']), ('especially', ['liked', 'it', 'the', 'song']), ('the', ['it', 'especially', 'song', 'circle']), ('song', ['especially', 'the', 'circle', 'of']), ('circle', ['the', 'song', 'of', 'life']), ('of', ['song', 'circle', 'life', 'when']), ('life', ['circle', 'of', 'when', 'it']), ('when', ['of', 'life', 'it', 'was']), ('it', ['life', 'when', 'was', 'released']), ('was', ['when', 'it', 'released', 'the']), ('released', ['it', 'was', 'the', 'movie']), ('the', ['was', 'released', 'movie', 'became']), ('movie', ['released', 'the', 'became', 'the']), ('became', ['the', 'movie', 'the', 'most']), ('the', ['movie', 'became', 'most', 'successeful']), ('most', ['became', 'the', 'successeful', 'movie']), ('successeful', ['the', 'most', 'movie', 'worldwide']), ('movie', ['most', 'successeful', 'worldwide', 'in']), ('worldwide', ['successeful', 'movie', 'in', 'the']), ('in', ['movie', 'worldwide', 'the', 'united']), ('the', ['worldwide', 'in', 'united', 'states']), ('united', ['in', 'the', 'states', 'forrest']), ('states', ['the', 'united', 'forrest', 'gump']), ('forrest', ['united', 'states', 'gump', 'was']), ('gump', ['states', 'forrest', 'was', 'most']), ('was', ['forrest', 'gump', 'most', 'successful']), ('most', ['gump', 'was', 'successful', 'of']), ('successful', ['was', 'most', 'of', 'that']), ('of', ['most', 'successful', 'that', 'year']), ('that', ['successful', 'of', 'year', 'and']), ('year', ['of', 'that', 'and', 'the']), ('and', ['that', 'year', 'the', 'most']), ('the', ['year', 'and', 'most', 'successful']), ('most', ['and', 'the', 'successful', 'animated']), ('successful', ['the', 'most', 'animated', 'feature']), ('animated', ['most', 'successful', 'feature', 'movie']), ('feature', ['successful', 'animated', 'movie', 'of']), ('movie', ['animated', 'feature', 'of', 'all']), ('of', ['feature', 'movie', 'all', 'time']), ('all', ['movie', 'of', 'time', 'until']), ('time', ['of', 'all', 'until', 'finding']), ('until', ['all', 'time', 'finding', 'nemo']), ('finding', ['time', 'until', 'nemo', 'since']), ('nemo', ['until', 'finding', 'since', 'then']), ('since', ['finding', 'nemo', 'then', 'shrek']), ('then', ['nemo', 'since', 'shrek', '2']), ('shrek', ['since', 'then', '2', 'has']), ('2', ['then', 'shrek', 'has', 'become']), ('has', ['shrek', '2', 'become', 'more']), ('become', ['2', 'has', 'more', 'successful']), ('more', ['has', 'become', 'successful', 'than']), ('successful', ['become', 'more', 'than', 'finding']), ('than', ['more', 'successful', 'finding', 'nemo']), ('finding', ['successful', 'than', 'nemo', 'making']), ('nemo', ['than', 'finding', 'making', 'the']), ('making', ['finding', 'nemo', 'the', 'lion']), ('the', ['nemo', 'making', 'lion', 'king']), ('lion', ['making', 'the', 'king', 'the']), ('king', ['the', 'lion', 'the', 'third']), ('the', ['lion', 'king', 'third', 'most']), ('third', ['king', 'the', 'most', 'successful']), ('most', ['the', 'third', 'successful', 'the']), ('successful', ['third', 'most', 'the', 'movie']), ('the', ['most', 'successful', 'movie', 'was']), ('movie', ['successful', 'the', 'was', 'also']), ('was', ['the', 'movie', 'also', 'made']), ('also', ['movie', 'was', 'made', 'into']), ('made', ['was', 'also', 'into', 'an']), ('into', ['also', 'made', 'an', 'awardwinning']), ('an', ['made', 'into', 'awardwinning', 'stage']), ('awardwinning', ['into', 'an', 'stage', 'musical']), ('stage', ['an', 'awardwinning', 'musical', 'the']), ('musical', ['awardwinning', 'stage', 'the', 'stage']), ('the', ['stage', 'musical', 'stage', 'show']), ('stage', ['musical', 'the', 'show', 'first']), ('show', ['the', 'stage', 'first', 'opened']), ('first', ['stage', 'show', 'opened', 'on']), ('opened', ['show', 'first', 'on', 'november']), ('on', ['first', 'opened', 'november', '13']), ('november', ['opened', 'on', '13', '1997']), ('13', ['on', 'november', '1997', 'in']), ('1997', ['november', '13', 'in', 'new']), ('in', ['13', '1997', 'new', 'york']), ('new', ['1997', 'in', 'york', 'city']), ('york', ['in', 'new', 'city', 'and']), ('city', ['new', 'york', 'and', 'it']), ('and', ['york', 'city', 'it', 'was']), ('it', ['city', 'and', 'was', 'a']), ('was', ['and', 'it', 'a', 'big']), ('a', ['it', 'was', 'big', 'success']), ('big', ['was', 'a', 'success', 'a']), ('success', ['a', 'big', 'a', 'version']), ('a', ['big', 'success', 'version', 'opened']), ('version', ['success', 'a', 'opened', 'later']), ('opened', ['a', 'version', 'later', 'in']), ('later', ['version', 'opened', 'in', 'london']), ('in', ['opened', 'later', 'london', 'england']), ('london', ['later', 'in', 'england', 'many']), ('england', ['in', 'london', 'many', 'other']), ('many', ['london', 'england', 'other', 'shows']), ('other', ['england', 'many', 'shows', 'of']), ('shows', ['many', 'other', 'of', 'the']), ('of', ['other', 'shows', 'the', 'lion']), ('the', ['shows', 'of', 'lion', 'king']), ('lion', ['of', 'the', 'king', 'have']), ('king', ['the', 'lion', 'have', 'been']), ('have', ['lion', 'king', 'been', 'shown']), ('been', ['king', 'have', 'shown', 'across']), ('shown', ['have', 'been', 'across', 'the']), ('across', ['been', 'shown', 'the', 'world']), ('the', ['shown', 'across', 'world', 'and']), ('world', ['across', 'the', 'and', 'is']), ('and', ['the', 'world', 'is', 'one']), ('is', ['world', 'and', 'one', 'of']), ('one', ['and', 'is', 'of', 'the']), ('of', ['is', 'one', 'the', 'uks']), ('the', ['one', 'of', 'uks', 'biggest']), ('uks', ['of', 'the', 'biggest', 'and']), ('biggest', ['the', 'uks', 'and', 'most']), ('and', ['uks', 'biggest', 'most', 'popular']), ('most', ['biggest', 'and', 'popular', 'shows']), ('popular', ['and', 'most', 'shows', 'in']), ('shows', ['most', 'popular', 'in', 'the']), ('in', ['popular', 'shows', 'the', 'movies']), ('the', ['shows', 'in', 'movies', 'opening']), ('movies', ['in', 'the', 'opening', 'scene']), ('opening', ['the', 'movies', 'scene', 'lots']), ('scene', ['movies', 'opening', 'lots', 'of']), ('lots', ['opening', 'scene', 'of', 'animals']), ('of', ['scene', 'lots', 'animals', 'and']), ('animals', ['lots', 'of', 'and', 'birds']), ('and', ['of', 'animals', 'birds', 'gather']), ('birds', ['animals', 'and', 'gather', 'at']), ('gather', ['and', 'birds', 'at', 'pride']), ('at', ['birds', 'gather', 'pride', 'rock']), ('pride', ['gather', 'at', 'rock', 'to']), ('rock', ['at', 'pride', 'to', 'see']), ('to', ['pride', 'rock', 'see', 'simba']), ('see', ['rock', 'to', 'simba', 'the']), ('simba', ['to', 'see', 'the', 'new']), ('the', ['see', 'simba', 'new', 'prince']), ('new', ['simba', 'the', 'prince', 'who']), ('prince', ['the', 'new', 'who', 'has']), ('who', ['new', 'prince', 'has', 'just']), ('has', ['prince', 'who', 'just', 'been']), ('just', ['who', 'has', 'been', 'born']), ('been', ['has', 'just', 'born', 'simba']), ('born', ['just', 'been', 'simba', 'is']), ('simba', ['been', 'born', 'is', 'the']), ('is', ['born', 'simba', 'the', 'son']), ('the', ['simba', 'is', 'son', 'of']), ('son', ['is', 'the', 'of', 'mufasa']), ('of', ['the', 'son', 'mufasa', 'and']), ('mufasa', ['son', 'of', 'and', 'sarabi']), ('and', ['of', 'mufasa', 'sarabi', 'rafiki']), ('sarabi', ['mufasa', 'and', 'rafiki', 'picks']), ('rafiki', ['and', 'sarabi', 'picks', 'up']), ('picks', ['sarabi', 'rafiki', 'up', 'simba']), ('up', ['rafiki', 'picks', 'simba', 'and']), ('simba', ['picks', 'up', 'and', 'lifts']), ('and', ['up', 'simba', 'lifts', 'him']), ('lifts', ['simba', 'and', 'him', 'high']), ('him', ['and', 'lifts', 'high', 'up']), ('high', ['lifts', 'him', 'up', 'so']), ('up', ['him', 'high', 'so', 'that']), ('so', ['high', 'up', 'that', 'all']), ('that', ['up', 'so', 'all', 'of']), ('all', ['so', 'that', 'of', 'the']), ('of', ['that', 'all', 'the', 'animals']), ('the', ['all', 'of', 'animals', 'can']), ('animals', ['of', 'the', 'can', 'see']), ('can', ['the', 'animals', 'see', 'the']), ('see', ['animals', 'can', 'the', 'animals']), ('the', ['can', 'see', 'animals', 'celebrate']), ('animals', ['see', 'the', 'celebrate', 'and']), ('celebrate', ['the', 'animals', 'and', 'rejoice']), ('and', ['animals', 'celebrate', 'rejoice', 'but']), ('rejoice', ['celebrate', 'and', 'but', 'scar']), ('but', ['and', 'rejoice', 'scar', 'mufasas']), ('scar', ['rejoice', 'but', 'mufasas', 'brother']), ('mufasas', ['but', 'scar', 'brother', 'is']), ('brother', ['scar', 'mufasas', 'is', 'jealous']), ('is', ['mufasas', 'brother', 'jealous', 'because']), ('jealous', ['brother', 'is', 'because', 'simba']), ('because', ['is', 'jealous', 'simba', 'will']), ('simba', ['jealous', 'because', 'will', 'be']), ('will', ['because', 'simba', 'be', 'king']), ('be', ['simba', 'will', 'king', 'instead']), ('king', ['will', 'be', 'instead', 'of']), ('instead', ['be', 'king', 'of', 'him']), ('of', ['king', 'instead', 'him', 'scar']), ('him', ['instead', 'of', 'scar', 'lies']), ('scar', ['of', 'him', 'lies', 'to']), ('lies', ['him', 'scar', 'to', 'simba']), ('to', ['scar', 'lies', 'simba', 'about']), ('simba', ['lies', 'to', 'about', 'a']), ('about', ['to', 'simba', 'a', 'dangerous']), ('a', ['simba', 'about', 'dangerous', 'place']), ('dangerous', ['about', 'a', 'place', 'called']), ('place', ['a', 'dangerous', 'called', 'the']), ('called', ['dangerous', 'place', 'the', 'elephant']), ('the', ['place', 'called', 'elephant', 'graveyard']), ('elephant', ['called', 'the', 'graveyard', 'scar']), ('graveyard', ['the', 'elephant', 'scar', 'says']), ('scar', ['elephant', 'graveyard', 'says', 'that']), ('says', ['graveyard', 'scar', 'that', 'only']), ('that', ['scar', 'says', 'only', 'brave']), ('only', ['says', 'that', 'brave', 'lions']), ('brave', ['that', 'only', 'lions', 'go']), ('lions', ['only', 'brave', 'go', 'there']), ('go', ['brave', 'lions', 'there', 'causing']), ('there', ['lions', 'go', 'causing', 'simba']), ('causing', ['go', 'there', 'simba', 'to']), ('simba', ['there', 'causing', 'to', 'be']), ('to', ['causing', 'simba', 'be', 'interested']), ('be', ['simba', 'to', 'interested', 'even']), ('interested', ['to', 'be', 'even', 'though']), ('even', ['be', 'interested', 'though', 'mufasa']), ('though', ['interested', 'even', 'mufasa', 'has']), ('mufasa', ['even', 'though', 'has', 'forbidden']), ('has', ['though', 'mufasa', 'forbidden', 'simba']), ('forbidden', ['mufasa', 'has', 'simba', 'from']), ('simba', ['has', 'forbidden', 'from', 'going']), ('from', ['forbidden', 'simba', 'going', 'there']), ('going', ['simba', 'from', 'there', 'simba']), ('there', ['from', 'going', 'simba', 'lies']), ('simba', ['going', 'there', 'lies', 'to']), ('lies', ['there', 'simba', 'to', 'his']), ('to', ['simba', 'lies', 'his', 'mother']), ('his', ['lies', 'to', 'mother', 'sarabi']), ('mother', ['to', 'his', 'sarabi', 'about']), ('sarabi', ['his', 'mother', 'about', 'going']), ('about', ['mother', 'sarabi', 'going', 'to']), ('going', ['sarabi', 'about', 'to', 'the']), ('to', ['about', 'going', 'the', 'water']), ('the', ['going', 'to', 'water', 'hole']), ('water', ['to', 'the', 'hole', 'when']), ('hole', ['the', 'water', 'when', 'he']), ('when', ['water', 'hole', 'he', 'is']), ('he', ['hole', 'when', 'is', 'actually']), ('is', ['when', 'he', 'actually', 'going']), ('actually', ['he', 'is', 'going', 'to']), ('going', ['is', 'actually', 'to', 'the']), ('to', ['actually', 'going', 'the', 'elephant']), ('the', ['going', 'to', 'elephant', 'graveyard']), ('elephant', ['to', 'the', 'graveyard', 'simbas']), ('graveyard', ['the', 'elephant', 'simbas', 'friend']), ('simbas', ['elephant', 'graveyard', 'friend', 'nala']), ('friend', ['graveyard', 'simbas', 'nala', 'and']), ('nala', ['simbas', 'friend', 'and', 'zazu']), ('and', ['friend', 'nala', 'zazu', 'the']), ('zazu', ['nala', 'and', 'the', 'kings']), ('the', ['and', 'zazu', 'kings', 'messenger']), ('kings', ['zazu', 'the', 'messenger', 'go']), ('messenger', ['the', 'kings', 'go', 'with']), ('go', ['kings', 'messenger', 'with', 'simba']), ('with', ['messenger', 'go', 'simba', 'simba']), ('simba', ['go', 'with', 'simba', 'and']), ('simba', ['with', 'simba', 'and', 'nala']), ('and', ['simba', 'simba', 'nala', 'trick']), ('nala', ['simba', 'and', 'trick', 'zazu']), ('trick', ['and', 'nala', 'zazu', 'with']), ('zazu', ['nala', 'trick', 'with', 'the']), ('with', ['trick', 'zazu', 'the', 'song']), ('the', ['zazu', 'with', 'song', 'i']), ('song', ['with', 'the', 'i', 'just']), ('i', ['the', 'song', 'just', 'cant']), ('just', ['song', 'i', 'cant', 'wait']), ('cant', ['i', 'just', 'wait', 'to']), ('wait', ['just', 'cant', 'to', 'be']), ('to', ['cant', 'wait', 'be', 'king']), ('be', ['wait', 'to', 'king', 'and']), ('king', ['to', 'be', 'and', 'run']), ('and', ['be', 'king', 'run', 'away']), ('run', ['king', 'and', 'away', 'from']), ('away', ['and', 'run', 'from', 'him']), ('from', ['run', 'away', 'him', 'simba']), ('him', ['away', 'from', 'simba', 'and']), ('simba', ['from', 'him', 'and', 'nala']), ('and', ['him', 'simba', 'nala', 'find']), ('nala', ['simba', 'and', 'find', 'the']), ('find', ['and', 'nala', 'the', 'elephant']), ('the', ['nala', 'find', 'elephant', 'graveyard']), ('elephant', ['find', 'the', 'graveyard', 'but']), ('graveyard', ['the', 'elephant', 'but', 'are']), ('but', ['elephant', 'graveyard', 'are', 'chased']), ('are', ['graveyard', 'but', 'chased', 'by']), ('chased', ['but', 'are', 'by', 'the']), ('by', ['are', 'chased', 'the', 'three']), ('the', ['chased', 'by', 'three', 'hyenas']), ('three', ['by', 'the', 'hyenas', 'shenzi']), ('hyenas', ['the', 'three', 'shenzi', 'banzai']), ('shenzi', ['three', 'hyenas', 'banzai', 'and']), ('banzai', ['hyenas', 'shenzi', 'and', 'ed']), ('and', ['shenzi', 'banzai', 'ed', 'mufasa']), ('ed', ['banzai', 'and', 'mufasa', 'saves']), ('mufasa', ['and', 'ed', 'saves', 'his']), ('saves', ['ed', 'mufasa', 'his', 'son']), ('his', ['mufasa', 'saves', 'son', 'and']), ('son', ['saves', 'his', 'and', 'nala']), ('and', ['his', 'son', 'nala', 'and']), ('nala', ['son', 'and', 'and', 'takes']), ('and', ['and', 'nala', 'takes', 'them']), ('takes', ['nala', 'and', 'them', 'both']), ('them', ['and', 'takes', 'both', 'home']), ('both', ['takes', 'them', 'home', 'mufasa']), ('home', ['them', 'both', 'mufasa', 'speaks']), ('mufasa', ['both', 'home', 'speaks', 'to']), ('speaks', ['home', 'mufasa', 'to', 'simba']), ('to', ['mufasa', 'speaks', 'simba', 'alone']), ('simba', ['speaks', 'to', 'alone', 'and']), ('alone', ['to', 'simba', 'and', 'explains']), ('and', ['simba', 'alone', 'explains', 'to']), ('explains', ['alone', 'and', 'to', 'simba']), ('to', ['and', 'explains', 'simba', 'that']), ('simba', ['explains', 'to', 'that', 'being']), ('that', ['to', 'simba', 'being', 'brave']), ('being', ['simba', 'that', 'brave', 'is']), ('brave', ['that', 'being', 'is', 'not']), ('is', ['being', 'brave', 'not', 'about']), ('not', ['brave', 'is', 'about', 'looking']), ('about', ['is', 'not', 'looking', 'for']), ('looking', ['not', 'about', 'for', 'danger']), ('for', ['about', 'looking', 'danger', 'he']), ('danger', ['looking', 'for', 'he', 'also']), ('he', ['for', 'danger', 'also', 'explains']), ('also', ['danger', 'he', 'explains', 'that']), ('explains', ['he', 'also', 'that', 'the']), ('that', ['also', 'explains', 'the', 'great']), ('the', ['explains', 'that', 'great', 'kings']), ('great', ['that', 'the', 'kings', 'of']), ('kings', ['the', 'great', 'of', 'the']), ('of', ['great', 'kings', 'the', 'past']), ('the', ['kings', 'of', 'past', 'look']), ('past', ['of', 'the', 'look', 'down']), ('look', ['the', 'past', 'down', 'from']), ('down', ['past', 'look', 'from', 'the']), ('from', ['look', 'down', 'the', 'stars']), ('the', ['down', 'from', 'stars', 'and']), ('stars', ['from', 'the', 'and', 'watch']), ('and', ['the', 'stars', 'watch', 'over']), ('watch', ['stars', 'and', 'over', 'simba']), ('over', ['and', 'watch', 'simba', 'scar']), ('simba', ['watch', 'over', 'scar', 'in']), ('scar', ['over', 'simba', 'in', 'the']), ('in', ['simba', 'scar', 'the', 'elephant']), ('the', ['scar', 'in', 'elephant', 'graveyard']), ('elephant', ['in', 'the', 'graveyard', 'is']), ('graveyard', ['the', 'elephant', 'is', 'angry']), ('is', ['elephant', 'graveyard', 'angry', 'with']), ('angry', ['graveyard', 'is', 'with', 'the']), ('with', ['is', 'angry', 'the', 'hyenas']), ('the', ['angry', 'with', 'hyenas', 'because']), ('hyenas', ['with', 'the', 'because', 'they']), ('because', ['the', 'hyenas', 'they', 'did']), ('they', ['hyenas', 'because', 'did', 'not']), ('did', ['because', 'they', 'not', 'kill']), ('not', ['they', 'did', 'kill', 'simba']), ('kill', ['did', 'not', 'simba', 'it']), ('simba', ['not', 'kill', 'it', 'is']), ('it', ['kill', 'simba', 'is', 'revealed']), ('is', ['simba', 'it', 'revealed', 'that']), ('revealed', ['it', 'is', 'that', 'the']), ('that', ['is', 'revealed', 'the', 'hyenas']), ('the', ['revealed', 'that', 'hyenas', 'are']), ('hyenas', ['that', 'the', 'are', 'working']), ('are', ['the', 'hyenas', 'working', 'for']), ('working', ['hyenas', 'are', 'for', 'scar']), ('for', ['are', 'working', 'scar', 'during']), ('scar', ['working', 'for', 'during', 'scars']), ('during', ['for', 'scar', 'scars', 'song']), ('scars', ['scar', 'during', 'song', 'be']), ('song', ['during', 'scars', 'be', 'prepared']), ('be', ['scars', 'song', 'prepared', 'the']), ('prepared', ['song', 'be', 'the', 'next']), ('the', ['be', 'prepared', 'next', 'day']), ('next', ['prepared', 'the', 'day', 'scar']), ('day', ['the', 'next', 'scar', 'takes']), ('scar', ['next', 'day', 'takes', 'simba']), ('takes', ['day', 'scar', 'simba', 'into']), ('simba', ['scar', 'takes', 'into', 'a']), ('into', ['takes', 'simba', 'a', 'gorge']), ('a', ['simba', 'into', 'gorge', 'long']), ('gorge', ['into', 'a', 'long', 'deep']), ('long', ['a', 'gorge', 'deep', 'hole']), ('deep', ['gorge', 'long', 'hole', 'in']), ('hole', ['long', 'deep', 'in', 'the']), ('in', ['deep', 'hole', 'the', 'ground']), ('the', ['hole', 'in', 'ground', 'also']), ('ground', ['in', 'the', 'also', 'known']), ('also', ['the', 'ground', 'known', 'as']), ('known', ['ground', 'also', 'as', 'a']), ('as', ['also', 'known', 'a', 'valley']), ('a', ['known', 'as', 'valley', 'where']), ('valley', ['as', 'a', 'where', 'he']), ('where', ['a', 'valley', 'he', 'explains']), ('he', ['valley', 'where', 'explains', 'that']), ('explains', ['where', 'he', 'that', 'mufasa']), ('that', ['he', 'explains', 'mufasa', 'has']), ('mufasa', ['explains', 'that', 'has', 'a']), ('has', ['that', 'mufasa', 'a', 'wonderful']), ('a', ['mufasa', 'has', 'wonderful', 'surprise']), ('wonderful', ['has', 'a', 'surprise', 'waiting']), ('surprise', ['a', 'wonderful', 'waiting', 'scar']), ('waiting', ['wonderful', 'surprise', 'scar', 'has']), ('scar', ['surprise', 'waiting', 'has', 'actually']), ('has', ['waiting', 'scar', 'actually', 'planned']), ('actually', ['scar', 'has', 'planned', 'a']), ('planned', ['has', 'actually', 'a', 'wildebeest']), ('a', ['actually', 'planned', 'wildebeest', 'stampede']), ('wildebeest', ['planned', 'a', 'stampede', 'with']), ('stampede', ['a', 'wildebeest', 'with', 'the']), ('with', ['wildebeest', 'stampede', 'the', 'hyenas']), ('the', ['stampede', 'with', 'hyenas', 'simba']), ('hyenas', ['with', 'the', 'simba', 'is']), ('simba', ['the', 'hyenas', 'is', 'trapped']), ('is', ['hyenas', 'simba', 'trapped', 'in']), ('trapped', ['simba', 'is', 'in', 'the']), ('in', ['is', 'trapped', 'the', 'gorge']), ('the', ['trapped', 'in', 'gorge', 'as']), ('gorge', ['in', 'the', 'as', 'the']), ('as', ['the', 'gorge', 'the', 'wildebeest']), ('the', ['gorge', 'as', 'wildebeest', 'run']), ('wildebeest', ['as', 'the', 'run', 'towards']), ('run', ['the', 'wildebeest', 'towards', 'him']), ('towards', ['wildebeest', 'run', 'him', 'scar']), ('him', ['run', 'towards', 'scar', 'tells']), ('scar', ['towards', 'him', 'tells', 'mufasa']), ('tells', ['him', 'scar', 'mufasa', 'that']), ('mufasa', ['scar', 'tells', 'that', 'simba']), ('that', ['tells', 'mufasa', 'simba', 'is']), ('simba', ['mufasa', 'that', 'is', 'in']), ('is', ['that', 'simba', 'in', 'trouble']), ('in', ['simba', 'is', 'trouble', 'and']), ('trouble', ['is', 'in', 'and', 'mufasa']), ('and', ['in', 'trouble', 'mufasa', 'rescues']), ('mufasa', ['trouble', 'and', 'rescues', 'his']), ('rescues', ['and', 'mufasa', 'his', 'son']), ('his', ['mufasa', 'rescues', 'son', 'scar']), ('son', ['rescues', 'his', 'scar', 'then']), ('scar', ['his', 'son', 'then', 'throws']), ('then', ['son', 'scar', 'throws', 'mufasa']), ('throws', ['scar', 'then', 'mufasa', 'into']), ('mufasa', ['then', 'throws', 'into', 'the']), ('into', ['throws', 'mufasa', 'the', 'stampede']), ('the', ['mufasa', 'into', 'stampede', 'and']), ('stampede', ['into', 'the', 'and', 'mufasa']), ('and', ['the', 'stampede', 'mufasa', 'dies']), ('mufasa', ['stampede', 'and', 'dies', 'scar']), ('dies', ['and', 'mufasa', 'scar', 'blames']), ('scar', ['mufasa', 'dies', 'blames', 'simba']), ('blames', ['dies', 'scar', 'simba', 'for']), ('simba', ['scar', 'blames', 'for', 'the']), ('for', ['blames', 'simba', 'the', 'death']), ('the', ['simba', 'for', 'death', 'of']), ('death', ['for', 'the', 'of', 'mufasa']), ('of', ['the', 'death', 'mufasa', 'and']), ('mufasa', ['death', 'of', 'and', 'simba']), ('and', ['of', 'mufasa', 'simba', 'runs']), ('simba', ['mufasa', 'and', 'runs', 'away']), ('runs', ['and', 'simba', 'away', 'scar']), ('away', ['simba', 'runs', 'scar', 'becomes']), ('scar', ['runs', 'away', 'becomes', 'king']), ('becomes', ['away', 'scar', 'king', 'and']), ('king', ['scar', 'becomes', 'and', 'tells']), ('and', ['becomes', 'king', 'tells', 'everyone']), ('tells', ['king', 'and', 'everyone', 'that']), ('everyone', ['and', 'tells', 'that', 'simba']), ('that', ['tells', 'everyone', 'simba', 'and']), ('simba', ['everyone', 'that', 'and', 'mufasa']), ('and', ['that', 'simba', 'mufasa', 'are']), ('mufasa', ['simba', 'and', 'are', 'dead']), ('are', ['and', 'mufasa', 'dead', 'simba']), ('dead', ['mufasa', 'are', 'simba', 'runs']), ('simba', ['are', 'dead', 'runs', 'to']), ('runs', ['dead', 'simba', 'to', 'a']), ('to', ['simba', 'runs', 'a', 'desert']), ('a', ['runs', 'to', 'desert', 'and']), ('desert', ['to', 'a', 'and', 'collapses']), ('and', ['a', 'desert', 'collapses', 'he']), ('collapses', ['desert', 'and', 'he', 'is']), ('he', ['and', 'collapses', 'is', 'rescued']), ('is', ['collapses', 'he', 'rescued', 'by']), ('rescued', ['he', 'is', 'by', 'timon']), ('by', ['is', 'rescued', 'timon', 'the']), ('timon', ['rescued', 'by', 'the', 'meerkat']), ('the', ['by', 'timon', 'meerkat', 'and']), ('meerkat', ['timon', 'the', 'and', 'pumbaa']), ('and', ['the', 'meerkat', 'pumbaa', 'the']), ('pumbaa', ['meerkat', 'and', 'the', 'warthog']), ('the', ['and', 'pumbaa', 'warthog', 'timon']), ('warthog', ['pumbaa', 'the', 'timon', 'and']), ('timon', ['the', 'warthog', 'and', 'pumbaa']), ('and', ['warthog', 'timon', 'pumbaa', 'live']), ('pumbaa', ['timon', 'and', 'live', 'in']), ('live', ['and', 'pumbaa', 'in', 'the']), ('in', ['pumbaa', 'live', 'the', 'jungle']), ('the', ['live', 'in', 'jungle', 'and']), ('jungle', ['in', 'the', 'and', 'are']), ('and', ['the', 'jungle', 'are', 'very']), ('are', ['jungle', 'and', 'very', 'relaxed']), ('very', ['and', 'are', 'relaxed', 'which']), ('relaxed', ['are', 'very', 'which', 'they']), ('which', ['very', 'relaxed', 'they', 'show']), ('they', ['relaxed', 'which', 'show', 'in']), ('show', ['which', 'they', 'in', 'their']), ('in', ['they', 'show', 'their', 'song']), ('their', ['show', 'in', 'song', 'hakuna']), ('song', ['in', 'their', 'hakuna', 'matata']), ('hakuna', ['their', 'song', 'matata', 'timon']), ('matata', ['song', 'hakuna', 'timon', 'and']), ('timon', ['hakuna', 'matata', 'and', 'pumbaa']), ('and', ['matata', 'timon', 'pumbaa', 'look']), ('pumbaa', ['timon', 'and', 'look', 'after']), ('look', ['and', 'pumbaa', 'after', 'simba']), ('after', ['pumbaa', 'look', 'simba', 'until']), ('simba', ['look', 'after', 'until', 'simba']), ('until', ['after', 'simba', 'simba', 'is']), ('simba', ['simba', 'until', 'is', 'an']), ('is', ['until', 'simba', 'an', 'adult']), ('an', ['simba', 'is', 'adult', 'lion']), ('adult', ['is', 'an', 'lion', 'one']), ('lion', ['an', 'adult', 'one', 'day']), ('one', ['adult', 'lion', 'day', 'a']), ('day', ['lion', 'one', 'a', 'lioness']), ('a', ['one', 'day', 'lioness', 'female']), ('lioness', ['day', 'a', 'female', 'lion']), ('female', ['a', 'lioness', 'lion', 'comes']), ('lion', ['lioness', 'female', 'comes', 'to']), ('comes', ['female', 'lion', 'to', 'the']), ('to', ['lion', 'comes', 'the', 'jungle']), ('the', ['comes', 'to', 'jungle', 'and']), ('jungle', ['to', 'the', 'and', 'tries']), ('and', ['the', 'jungle', 'tries', 'to']), ('tries', ['jungle', 'and', 'to', 'kill']), ('to', ['and', 'tries', 'kill', 'and']), ('kill', ['tries', 'to', 'and', 'eat']), ('and', ['to', 'kill', 'eat', 'pumbaa']), ('eat', ['kill', 'and', 'pumbaa', 'simba']), ('pumbaa', ['and', 'eat', 'simba', 'fights']), ('simba', ['eat', 'pumbaa', 'fights', 'the']), ('fights', ['pumbaa', 'simba', 'the', 'lioness']), ('the', ['simba', 'fights', 'lioness', 'because']), ('lioness', ['fights', 'the', 'because', 'he']), ('because', ['the', 'lioness', 'he', 'wants']), ('he', ['lioness', 'because', 'wants', 'to']), ('wants', ['because', 'he', 'to', 'save']), ('to', ['he', 'wants', 'save', 'pumbaas']), ('save', ['wants', 'to', 'pumbaas', 'life']), ('pumbaas', ['to', 'save', 'life', 'while']), ('life', ['save', 'pumbaas', 'while', 'the']), ('while', ['pumbaas', 'life', 'the', 'two']), ('the', ['life', 'while', 'two', 'lions']), ('two', ['while', 'the', 'lions', 'are']), ('lions', ['the', 'two', 'are', 'fighting']), ('are', ['two', 'lions', 'fighting', 'simba']), ('fighting', ['lions', 'are', 'simba', 'finds']), ('simba', ['are', 'fighting', 'finds', 'out']), ('finds', ['fighting', 'simba', 'out', 'that']), ('out', ['simba', 'finds', 'that', 'the']), ('that', ['finds', 'out', 'the', 'lioness']), ('the', ['out', 'that', 'lioness', 'is']), ('lioness', ['that', 'the', 'is', 'his']), ('is', ['the', 'lioness', 'his', 'friend']), ('his', ['lioness', 'is', 'friend', 'nala']), ('friend', ['is', 'his', 'nala', 'they']), ('nala', ['his', 'friend', 'they', 'are']), ('they', ['friend', 'nala', 'are', 'very']), ('are', ['nala', 'they', 'very', 'happy']), ('very', ['they', 'are', 'happy', 'to']), ('happy', ['are', 'very', 'to', 'see']), ('to', ['very', 'happy', 'see', 'each']), ('see', ['happy', 'to', 'each', 'other']), ('each', ['to', 'see', 'other', 'and']), ('other', ['see', 'each', 'and', 'they']), ('and', ['each', 'other', 'they', 'fall']), ('they', ['other', 'and', 'fall', 'in']), ('fall', ['and', 'they', 'in', 'love']), ('in', ['they', 'fall', 'love', 'nala']), ('love', ['fall', 'in', 'nala', 'wants']), ('nala', ['in', 'love', 'wants', 'simba']), ('wants', ['love', 'nala', 'simba', 'to']), ('simba', ['nala', 'wants', 'to', 'go']), ('to', ['wants', 'simba', 'go', 'home']), ('go', ['simba', 'to', 'home', 'and']), ('home', ['to', 'go', 'and', 'fight']), ('and', ['go', 'home', 'fight', 'scar']), ('fight', ['home', 'and', 'scar', 'because']), ('scar', ['and', 'fight', 'because', 'scar']), ('because', ['fight', 'scar', 'scar', 'is']), ('scar', ['scar', 'because', 'is', 'a']), ('is', ['because', 'scar', 'a', 'bad']), ('a', ['scar', 'is', 'bad', 'king']), ('bad', ['is', 'a', 'king', 'simba']), ('king', ['a', 'bad', 'simba', 'will']), ('simba', ['bad', 'king', 'will', 'not']), ('will', ['king', 'simba', 'not', 'go']), ('not', ['simba', 'will', 'go', 'home']), ('go', ['will', 'not', 'home', 'because']), ('home', ['not', 'go', 'because', 'he']), ('because', ['go', 'home', 'he', 'thinks']), ('he', ['home', 'because', 'thinks', 'that']), ('thinks', ['because', 'he', 'that', 'he']), ('that', ['he', 'thinks', 'he', 'killed']), ('he', ['thinks', 'that', 'killed', 'mufasa']), ('killed', ['that', 'he', 'mufasa', 'and']), ('mufasa', ['he', 'killed', 'and', 'he']), ('and', ['killed', 'mufasa', 'he', 'does']), ('he', ['mufasa', 'and', 'does', 'not']), ('does', ['and', 'he', 'not', 'want']), ('not', ['he', 'does', 'want', 'his']), ('want', ['does', 'not', 'his', 'family']), ('his', ['not', 'want', 'family', 'to']), ('family', ['want', 'his', 'to', 'know']), ('to', ['his', 'family', 'know', 'rafiki']), ('know', ['family', 'to', 'rafiki', 'comes']), ('rafiki', ['to', 'know', 'comes', 'to']), ('comes', ['know', 'rafiki', 'to', 'the']), ('to', ['rafiki', 'comes', 'the', 'jungle']), ('the', ['comes', 'to', 'jungle', 'and']), ('jungle', ['to', 'the', 'and', 'takes']), ('and', ['the', 'jungle', 'takes', 'simba']), ('takes', ['jungle', 'and', 'simba', 'to']), ('simba', ['and', 'takes', 'to', 'a']), ('to', ['takes', 'simba', 'a', 'field']), ('a', ['simba', 'to', 'field', 'in']), ('field', ['to', 'a', 'in', 'the']), ('in', ['a', 'field', 'the', 'sky']), ('the', ['field', 'in', 'sky', 'above']), ('sky', ['in', 'the', 'above', 'the']), ('above', ['the', 'sky', 'the', 'field']), ('the', ['sky', 'above', 'field', 'mufasas']), ('field', ['above', 'the', 'mufasas', 'ghost']), ('mufasas', ['the', 'field', 'ghost', 'appears']), ('ghost', ['field', 'mufasas', 'appears', 'and']), ('appears', ['mufasas', 'ghost', 'and', 'tells']), ('and', ['ghost', 'appears', 'tells', 'simba']), ('tells', ['appears', 'and', 'simba', 'that']), ('simba', ['and', 'tells', 'that', 'he']), ('that', ['tells', 'simba', 'he', 'must']), ('he', ['simba', 'that', 'must', 'go']), ('must', ['that', 'he', 'go', 'home']), ('go', ['he', 'must', 'home', 'because']), ('home', ['must', 'go', 'because', 'simba']), ('because', ['go', 'home', 'simba', 'is']), ('simba', ['home', 'because', 'is', 'the']), ('is', ['because', 'simba', 'the', 'right']), ('the', ['simba', 'is', 'right', 'king']), ('right', ['is', 'the', 'king', 'after']), ('king', ['the', 'right', 'after', 'this']), ('after', ['right', 'king', 'this', 'simba']), ('this', ['king', 'after', 'simba', 'goes']), ('simba', ['after', 'this', 'goes', 'home']), ('goes', ['this', 'simba', 'home', 'to']), ('home', ['simba', 'goes', 'to', 'pride']), ('to', ['goes', 'home', 'pride', 'rock']), ('pride', ['home', 'to', 'rock', 'nala']), ('rock', ['to', 'pride', 'nala', 'timon']), ('nala', ['pride', 'rock', 'timon', 'and']), ('timon', ['rock', 'nala', 'and', 'pumbaa']), ('and', ['nala', 'timon', 'pumbaa', 'follow']), ('pumbaa', ['timon', 'and', 'follow', 'him']), ('follow', ['and', 'pumbaa', 'him', 'when']), ('him', ['pumbaa', 'follow', 'when', 'they']), ('when', ['follow', 'him', 'they', 'get']), ('they', ['him', 'when', 'get', 'to']), ('get', ['when', 'they', 'to', 'pride']), ('to', ['they', 'get', 'pride', 'rock']), ('pride', ['get', 'to', 'rock', 'they']), ('rock', ['to', 'pride', 'they', 'find']), ('they', ['pride', 'rock', 'find', 'that']), ('find', ['rock', 'they', 'that', 'the']), ('that', ['they', 'find', 'the', 'land']), ('the', ['find', 'that', 'land', 'is']), ('land', ['that', 'the', 'is', 'dry']), ('is', ['the', 'land', 'dry', 'and']), ('dry', ['land', 'is', 'and', 'the']), ('and', ['is', 'dry', 'the', 'animals']), ('the', ['dry', 'and', 'animals', 'have']), ('animals', ['and', 'the', 'have', 'gone']), ('have', ['the', 'animals', 'gone', 'at']), ('gone', ['animals', 'have', 'at', 'pride']), ('at', ['have', 'gone', 'pride', 'rock']), ('pride', ['gone', 'at', 'rock', 'simba']), ('rock', ['at', 'pride', 'simba', 'sees']), ('simba', ['pride', 'rock', 'sees', 'scar']), ('sees', ['rock', 'simba', 'scar', 'hitting']), ('scar', ['simba', 'sees', 'hitting', 'sarabi']), ('hitting', ['sees', 'scar', 'sarabi', 'this']), ('sarabi', ['scar', 'hitting', 'this', 'makes']), ('this', ['hitting', 'sarabi', 'makes', 'simba']), ('makes', ['sarabi', 'this', 'simba', 'angry']), ('simba', ['this', 'makes', 'angry', 'and']), ('angry', ['makes', 'simba', 'and', 'he']), ('and', ['simba', 'angry', 'he', 'tries']), ('he', ['angry', 'and', 'tries', 'to']), ('tries', ['and', 'he', 'to', 'make']), ('to', ['he', 'tries', 'make', 'scar']), ('make', ['tries', 'to', 'scar', 'leave']), ('scar', ['to', 'make', 'leave', 'pride']), ('leave', ['make', 'scar', 'pride', 'rock']), ('pride', ['scar', 'leave', 'rock', 'scar']), ('rock', ['leave', 'pride', 'scar', 'does']), ('scar', ['pride', 'rock', 'does', 'not']), ('does', ['rock', 'scar', 'not', 'leave']), ('not', ['scar', 'does', 'leave', 'and']), ('leave', ['does', 'not', 'and', 'makes']), ('and', ['not', 'leave', 'makes', 'simba']), ('makes', ['leave', 'and', 'simba', 'fall']), ('simba', ['and', 'makes', 'fall', 'over']), ('fall', ['makes', 'simba', 'over', 'the']), ('over', ['simba', 'fall', 'the', 'edge']), ('the', ['fall', 'over', 'edge', 'of']), ('edge', ['over', 'the', 'of', 'pride']), ('of', ['the', 'edge', 'pride', 'rock']), ('pride', ['edge', 'of', 'rock', 'simba']), ('rock', ['of', 'pride', 'simba', 'does']), ('simba', ['pride', 'rock', 'does', 'not']), ('does', ['rock', 'simba', 'not', 'fall']), ('not', ['simba', 'does', 'fall', 'and']), ('fall', ['does', 'not', 'and', 'holds']), ('and', ['not', 'fall', 'holds', 'on']), ('holds', ['fall', 'and', 'on', 'to']), ('on', ['and', 'holds', 'to', 'the']), ('to', ['holds', 'on', 'the', 'edge']), ('the', ['on', 'to', 'edge', 'scar']), ('edge', ['to', 'the', 'scar', 'thinks']), ('scar', ['the', 'edge', 'thinks', 'that']), ('thinks', ['edge', 'scar', 'that', 'he']), ('that', ['scar', 'thinks', 'he', 'was']), ('he', ['thinks', 'that', 'was', 'won']), ('was', ['that', 'he', 'won', 'so']), ('won', ['he', 'was', 'so', 'he']), ('so', ['was', 'won', 'he', 'tells']), ('he', ['won', 'so', 'tells', 'simba']), ('tells', ['so', 'he', 'simba', 'the']), ('simba', ['he', 'tells', 'the', 'truth']), ('the', ['tells', 'simba', 'truth', 'about']), ('truth', ['simba', 'the', 'about', 'the']), ('about', ['the', 'truth', 'the', 'death']), ('the', ['truth', 'about', 'death', 'of']), ('death', ['about', 'the', 'of', 'mufasa']), ('of', ['the', 'death', 'mufasa', 'that']), ('mufasa', ['death', 'of', 'that', 'scar']), ('that', ['of', 'mufasa', 'scar', 'actually']), ('scar', ['mufasa', 'that', 'actually', 'killed']), ('actually', ['that', 'scar', 'killed', 'mufasa']), ('killed', ['scar', 'actually', 'mufasa', 'simba']), ('mufasa', ['actually', 'killed', 'simba', 'is']), ('simba', ['killed', 'mufasa', 'is', 'upset']), ('is', ['mufasa', 'simba', 'upset', 'and']), ('upset', ['simba', 'is', 'and', 'a']), ('and', ['is', 'upset', 'a', 'big']), ('a', ['upset', 'and', 'big', 'fight']), ('big', ['and', 'a', 'fight', 'happens']), ('fight', ['a', 'big', 'happens', 'the']), ('happens', ['big', 'fight', 'the', 'lionesses']), ('the', ['fight', 'happens', 'lionesses', 'fight']), ('lionesses', ['happens', 'the', 'fight', 'the']), ('fight', ['the', 'lionesses', 'the', 'hyenas']), ('the', ['lionesses', 'fight', 'hyenas', 'and']), ('hyenas', ['fight', 'the', 'and', 'simba']), ('and', ['the', 'hyenas', 'simba', 'fights']), ('simba', ['hyenas', 'and', 'fights', 'scar']), ('fights', ['and', 'simba', 'scar', 'while']), ('scar', ['simba', 'fights', 'while', 'the']), ('while', ['fights', 'scar', 'the', 'fighting']), ('the', ['scar', 'while', 'fighting', 'is']), ('fighting', ['while', 'the', 'is', 'going']), ('is', ['the', 'fighting', 'going', 'on']), ('going', ['fighting', 'is', 'on', 'lightning']), ('on', ['is', 'going', 'lightning', 'hits']), ('lightning', ['going', 'on', 'hits', 'a']), ('hits', ['on', 'lightning', 'a', 'dead']), ('a', ['lightning', 'hits', 'dead', 'tree']), ('dead', ['hits', 'a', 'tree', 'and']), ('tree', ['a', 'dead', 'and', 'starts']), ('and', ['dead', 'tree', 'starts', 'a']), ('starts', ['tree', 'and', 'a', 'fire']), ('a', ['and', 'starts', 'fire', 'scar']), ('fire', ['starts', 'a', 'scar', 'and']), ('scar', ['a', 'fire', 'and', 'simba']), ('and', ['fire', 'scar', 'simba', 'fight']), ('simba', ['scar', 'and', 'fight', 'on']), ('fight', ['and', 'simba', 'on', 'top']), ('on', ['simba', 'fight', 'top', 'of']), ('top', ['fight', 'on', 'of', 'pride']), ('of', ['on', 'top', 'pride', 'rock']), ('pride', ['top', 'of', 'rock', 'scar']), ('rock', ['of', 'pride', 'scar', 'does']), ('scar', ['pride', 'rock', 'does', 'not']), ('does', ['rock', 'scar', 'not', 'want']), ('not', ['scar', 'does', 'want', 'to']), ('want', ['does', 'not', 'to', 'die']), ('to', ['not', 'want', 'die', 'and']), ('die', ['want', 'to', 'and', 'lies']), ('and', ['to', 'die', 'lies', 'to']), ('lies', ['die', 'and', 'to', 'simba']), ('to', ['and', 'lies', 'simba', 'that']), ('simba', ['lies', 'to', 'that', 'the']), ('that', ['to', 'simba', 'the', 'hyenas']), ('the', ['simba', 'that', 'hyenas', 'are']), ('hyenas', ['that', 'the', 'are', 'to']), ('are', ['the', 'hyenas', 'to', 'blame']), ('to', ['hyenas', 'are', 'blame', 'for']), ('blame', ['are', 'to', 'for', 'everything']), ('for', ['to', 'blame', 'everything', 'another']), ('everything', ['blame', 'for', 'another', 'fight']), ('another', ['for', 'everything', 'fight', 'happens']), ('fight', ['everything', 'another', 'happens', 'and']), ('happens', ['another', 'fight', 'and', 'simba']), ('and', ['fight', 'happens', 'simba', 'throws']), ('simba', ['happens', 'and', 'throws', 'scar']), ('throws', ['and', 'simba', 'scar', 'over']), ('scar', ['simba', 'throws', 'over', 'the']), ('over', ['throws', 'scar', 'the', 'edge']), ('the', ['scar', 'over', 'edge', 'scar']), ('edge', ['over', 'the', 'scar', 'does']), ('scar', ['the', 'edge', 'does', 'not']), ('does', ['edge', 'scar', 'not', 'die']), ('not', ['scar', 'does', 'die', 'after']), ('die', ['does', 'not', 'after', 'the']), ('after', ['not', 'die', 'the', 'fall']), ('the', ['die', 'after', 'fall', 'but']), ('fall', ['after', 'the', 'but', 'the']), ('but', ['the', 'fall', 'the', 'hyenas']), ('the', ['fall', 'but', 'hyenas', 'attack']), ('hyenas', ['but', 'the', 'attack', 'and']), ('attack', ['the', 'hyenas', 'and', 'kill']), ('and', ['hyenas', 'attack', 'kill', 'him']), ('kill', ['attack', 'and', 'him', 'the']), ('him', ['and', 'kill', 'the', 'hyenas']), ('the', ['kill', 'him', 'hyenas', 'are']), ('hyenas', ['him', 'the', 'are', 'angry']), ('are', ['the', 'hyenas', 'angry', 'that']), ('angry', ['hyenas', 'are', 'that', 'scar']), ('that', ['are', 'angry', 'scar', 'blamed']), ('scar', ['angry', 'that', 'blamed', 'them']), ('blamed', ['that', 'scar', 'them', 'rain']), ('them', ['scar', 'blamed', 'rain', 'falls']), ('rain', ['blamed', 'them', 'falls', 'and']), ('falls', ['them', 'rain', 'and', 'puts']), ('and', ['rain', 'falls', 'puts', 'out']), ('puts', ['falls', 'and', 'out', 'the']), ('out', ['and', 'puts', 'the', 'fire']), ('the', ['puts', 'out', 'fire', 'simba']), ('fire', ['out', 'the', 'simba', 'walks']), ('simba', ['the', 'fire', 'walks', 'to']), ('walks', ['fire', 'simba', 'to', 'the']), ('to', ['simba', 'walks', 'the', 'top']), ('the', ['walks', 'to', 'top', 'of']), ('top', ['to', 'the', 'of', 'pride']), ('of', ['the', 'top', 'pride', 'rock']), ('pride', ['top', 'of', 'rock', 'and']), ('rock', ['of', 'pride', 'and', 'roars']), ('and', ['pride', 'rock', 'roars', 'much']), ('roars', ['rock', 'and', 'much', 'later']), ('much', ['and', 'roars', 'later', 'the']), ('later', ['roars', 'much', 'the', 'animals']), ('the', ['much', 'later', 'animals', 'come']), ('animals', ['later', 'the', 'come', 'back']), ('come', ['the', 'animals', 'back', 'at']), ('back', ['animals', 'come', 'at', 'the']), ('at', ['come', 'back', 'the', 'end']), ('the', ['back', 'at', 'end', 'of']), ('end', ['at', 'the', 'of', 'the']), ('of', ['the', 'end', 'the', 'movie']), ('the', ['end', 'of', 'movie', 'rafiki']), ('movie', ['of', 'the', 'rafiki', 'picks']), ('rafiki', ['the', 'movie', 'picks', 'up']), ('picks', ['movie', 'rafiki', 'up', 'simba']), ('up', ['rafiki', 'picks', 'simba', 'and']), ('simba', ['picks', 'up', 'and', 'nalas']), ('and', ['up', 'simba', 'nalas', 'daughter']), ('nalas', ['simba', 'and', 'daughter', 'and']), ('daughter', ['and', 'nalas', 'and', 'lifts']), ('and', ['nalas', 'daughter', 'lifts', 'her']), ('lifts', ['daughter', 'and', 'her', 'up']), ('her', ['and', 'lifts', 'up', 'high']), ('up', ['lifts', 'her', 'high', 'above']), ('high', ['her', 'up', 'above', 'pride']), ('above', ['up', 'high', 'pride', 'rock']), ('pride', ['high', 'above', 'rock', 'so']), ('rock', ['above', 'pride', 'so', 'the']), ('so', ['pride', 'rock', 'the', 'animals']), ('the', ['rock', 'so', 'animals', 'below']), ('animals', ['so', 'the', 'below', 'can']), ('below', ['the', 'animals', 'can', 'see'])]\n"
     ]
    }
   ],
   "source": [
    "print(data)"
   ]
  },
  {
   "cell_type": "code",
   "execution_count": 13,
   "id": "golden-tokyo",
   "metadata": {},
   "outputs": [],
   "source": [
    "def words_to_tensor(words: list, word2index: dict, dtype = torch.FloatTensor):\n",
    "    \"\"\"\n",
    "    This fucntion converts a word or a list of words into a torch tensor,\n",
    "    with appropriate format.\n",
    "    It reuses the word2index dictionary.\n",
    "    \"\"\"\n",
    "    \n",
    "    tensor =  dtype([word2index[word] for word in words])\n",
    "    tensor = tensor.to(device)\n",
    "    \n",
    "    return Variable(tensor)"
   ]
  },
  {
   "cell_type": "markdown",
   "id": "destroyed-excuse",
   "metadata": {},
   "source": [
    "### Step 2. Create a SkipGram model and train\n",
    "\n",
    "Task #1: Write your own model for the SkipGram model below."
   ]
  },
  {
   "cell_type": "code",
   "execution_count": 18,
   "id": "higher-kentucky",
   "metadata": {},
   "outputs": [],
   "source": [
    "class SkipGram(nn.Module):\n",
    "    \"\"\"\n",
    "    Your skipgram model here!\n",
    "    \"\"\"\n",
    "    \n",
    "    def __init__(self, context_size, embedding_dim, vocab_size):\n",
    "        super(SkipGram, self).__init__()\n",
    "        self.context_size = context_size\n",
    "        self.embeddings = nn.Embedding(vocab_size, embedding_dim)\n",
    "        self.linear1 = nn.Linear(embedding_dim, 128)\n",
    "        self.linear2 = nn.Linear(128, vocab_size)\n",
    "\n",
    "    def forward(self, inputs):\n",
    "        embeds = self.embeddings(inputs).view(1, -1) #reshape to 1-d vector\n",
    "        out = F.relu(self.linear1(embeds))\n",
    "        out = self.linear2(out)\n",
    "        out = F.log_softmax(out, dim=1)\n",
    "        log_probs = torch.cat([out]*self.context_size*2) # shared weights\n",
    "        log_probs = log_probs.view(2*self.context_size, -1)\n",
    "        return log_probs"
   ]
  },
  {
   "cell_type": "code",
   "execution_count": 19,
   "id": "civilian-tongue",
   "metadata": {},
   "outputs": [
    {
     "data": {
      "text/plain": [
       "SkipGram(\n",
       "  (embeddings): Embedding(389, 20)\n",
       "  (linear1): Linear(in_features=20, out_features=128, bias=True)\n",
       "  (linear2): Linear(in_features=128, out_features=389, bias=True)\n",
       ")"
      ]
     },
     "execution_count": 19,
     "metadata": {},
     "output_type": "execute_result"
    }
   ],
   "source": [
    "# Create model and pass to CUDA if available.\n",
    "model = SkipGram(context_size = 2, embedding_dim = 20, vocab_size = len(vocab))\n",
    "model = model.to(device)\n",
    "model.train()"
   ]
  },
  {
   "cell_type": "code",
   "execution_count": 25,
   "id": "swiss-directive",
   "metadata": {},
   "outputs": [],
   "source": [
    "# Define training parameters\n",
    "learning_rate = 0.001\n",
    "epochs = 50\n",
    "torch.manual_seed(28)\n",
    "loss_func = nn.NLLLoss()\n",
    "optimizer = optim.SGD(model.parameters(), lr = learning_rate)"
   ]
  },
  {
   "cell_type": "markdown",
   "id": "unlikely-arcade",
   "metadata": {},
   "source": [
    "Task #2: Write your own training function for the SkipGram model in the cell below. It should return a list of losses and accuracies for display later on, along with your trained model. You may also write a helper function for computing the accuracy of your model during training."
   ]
  },
  {
   "cell_type": "code",
   "execution_count": 30,
   "id": "canadian-terry",
   "metadata": {},
   "outputs": [],
   "source": [
    "def get_prediction(context, model, word2index, index2word):\n",
    "    \"\"\"\n",
    "    This is a helper function to get predictions from our model.\n",
    "    \"\"\"\n",
    "    # Get into eval() mode\n",
    "    model.eval()\n",
    "    ids = words_to_tensor([context], word2index, dtype = torch.LongTensor)\n",
    "    \n",
    "    # Forward pass\n",
    "    prediction = model(ids)\n",
    "    # top 4 predicted words\n",
    "    predicted_words = []\n",
    "    idx = torch.topk(prediction, 4).indices[0]\n",
    "    for index in idx:\n",
    "        predicted_words.append(index2word[index.item()])\n",
    "    \n",
    "    return predicted_words"
   ]
  },
  {
   "cell_type": "code",
   "execution_count": 31,
   "id": "c5e23966",
   "metadata": {},
   "outputs": [],
   "source": [
    "def check_accuracy(model, data, word2index, index2word):\n",
    "\n",
    "    # Compute accuracy\n",
    "    correct = 0\n",
    "    for context, target in data:\n",
    "        prediction = get_prediction(context, model, word2index, index2word)\n",
    "\n",
    "        for word in target:\n",
    "            if word in prediction:\n",
    "                correct += 1\n",
    "\n",
    "    return correct/(4 * len(data))"
   ]
  },
  {
   "cell_type": "code",
   "execution_count": 44,
   "id": "periodic-native",
   "metadata": {},
   "outputs": [
    {
     "name": "stdout",
     "output_type": "stream",
     "text": [
      "Accuracy after epoch 0 is 0.21637291280148424\n",
      "Accuracy after epoch 10 is 0.2242578849721707\n",
      "Accuracy after epoch 20 is 0.2307513914656772\n",
      "Accuracy after epoch 30 is 0.23330241187384043\n",
      "Accuracy after epoch 40 is 0.23956400742115028\n"
     ]
    }
   ],
   "source": [
    "def train(data, word2index, model, epochs, loss_func, optimizer):\n",
    "    \"\"\"\n",
    "    This is a trainer function to train our SkipGram model.\n",
    "    \"\"\"\n",
    "    losses = []\n",
    "    accuracies = []\n",
    "    for epoch in range(epochs):\n",
    "        total_loss = 0\n",
    "        for context, target in data:\n",
    "\n",
    "            # Prepare data\n",
    "            ids = words_to_tensor([context], word2index, dtype = torch.LongTensor)\n",
    "            target = words_to_tensor(target, word2index, dtype = torch.LongTensor)\n",
    "\n",
    "            # Forward pass\n",
    "            model.zero_grad()\n",
    "            output = model(ids)\n",
    "            loss = loss_func(output, target)\n",
    "\n",
    "            # Backward pass and optimize\n",
    "            loss.backward()\n",
    "            optimizer.step()\n",
    "\n",
    "            # Loss update\n",
    "            total_loss += loss.data.item()\n",
    "\n",
    "        # Display\n",
    "        if epoch % 10 == 0:\n",
    "            accuracy = check_accuracy(model, data, word2index, index2word)\n",
    "            print(\"Accuracy after epoch {} is {}\".format(epoch, accuracy))\n",
    "            accuracies.append(accuracy)\n",
    "            losses.append(total_loss)\n",
    "            \n",
    "    return losses, accuracies, model\n",
    "\n",
    "losses, accuracies, model = train(data, word2index, model, epochs, loss_func, optimizer)"
   ]
  },
  {
   "cell_type": "markdown",
   "id": "geological-statistics",
   "metadata": {},
   "source": [
    "### 3. Visualization"
   ]
  },
  {
   "cell_type": "code",
   "execution_count": 45,
   "id": "gross-affect",
   "metadata": {},
   "outputs": [
    {
     "data": {
      "image/png": "[encoded data removed]",
      "text/plain": [
       "<Figure size 432x288 with 1 Axes>"
      ]
     },
     "metadata": {
      "needs_background": "light"
     },
     "output_type": "display_data"
    }
   ],
   "source": [
    "# Display losses over time\n",
    "plt.figure()\n",
    "plt.plot(losses)\n",
    "plt.show()"
   ]
  },
  {
   "cell_type": "code",
   "execution_count": 46,
   "id": "seventh-scout",
   "metadata": {},
   "outputs": [
    {
     "data": {
      "image/png": "[encoded data removed]",
      "text/plain": [
       "<Figure size 432x288 with 1 Axes>"
      ]
     },
     "metadata": {
      "needs_background": "light"
     },
     "output_type": "display_data"
    }
   ],
   "source": [
    "# Display accuracies over time\n",
    "plt.figure()\n",
    "plt.plot(accuracies)\n",
    "plt.show()"
   ]
  },
  {
   "cell_type": "markdown",
   "id": "2385632e",
   "metadata": {},
   "source": [
    "### 4. Extract embedding and play with it? (Optional)"
   ]
  },
  {
   "cell_type": "code",
   "execution_count": 47,
   "id": "52b71f16",
   "metadata": {},
   "outputs": [
    {
     "name": "stdout",
     "output_type": "stream",
     "text": [
      "tensor([ 1.2516,  0.8456, -0.5436,  0.7872, -0.4899,  1.9889, -1.1532, -0.7450,\n",
      "        -1.2643, -1.2773,  0.4943, -0.2201, -2.1172, -0.2884,  0.5551,  0.1713,\n",
      "         0.0839, -0.5745, -0.0026, -0.6468], device='cuda:0',\n",
      "       grad_fn=<ReshapeAliasBackward0>)\n",
      "tensor([ 1.3464,  1.1026,  0.1158,  0.0964,  1.4199,  0.9714, -0.8183,  0.3759,\n",
      "        -0.2886,  0.6802,  0.4451, -1.3538,  1.1941,  0.7152, -0.7267,  0.0047,\n",
      "        -0.2888,  0.9224,  1.3905,  0.1401], device='cuda:0',\n",
      "       grad_fn=<ReshapeAliasBackward0>)\n",
      "tensor([-0.3091,  0.5915,  0.3005, -0.2372, -0.7165,  0.8173, -0.2180,  0.4993,\n",
      "        -0.1521,  0.4898, -0.5632,  0.8190,  0.9338, -0.2438, -0.3635, -0.8517,\n",
      "        -1.3055, -1.1574,  0.0361,  1.8492], device='cuda:0',\n",
      "       grad_fn=<ReshapeAliasBackward0>)\n"
     ]
    }
   ],
   "source": [
    "word1 = words_to_tensor([\"lion\"], word2index, dtype = torch.LongTensor)\n",
    "word2 = words_to_tensor([\"simba\"], word2index, dtype = torch.LongTensor)\n",
    "word3 = words_to_tensor([\"daughter\"], word2index, dtype = torch.LongTensor)\n",
    "w1 = torch.reshape(model.embeddings(word1), (20,))\n",
    "w2 = torch.reshape(model.embeddings(word2), (20,))\n",
    "w3 = torch.reshape(model.embeddings(word3), (20,))\n",
    "print(w1)\n",
    "print(w2)\n",
    "print(w3)"
   ]
  },
  {
   "cell_type": "code",
   "execution_count": 48,
   "id": "c01fde98",
   "metadata": {},
   "outputs": [
    {
     "name": "stdout",
     "output_type": "stream",
     "text": [
      "0.7591705322265625\n",
      "-2.1680543422698975\n"
     ]
    }
   ],
   "source": [
    "# lion and simba have a somewhat close semantic meaning (positive value)\n",
    "print(torch.dot(w1, w2).item())\n",
    "# lion and daughter do not have a close semantic meaning (neg value)\n",
    "print(torch.dot(w1, w3).item())"
   ]
  },
  {
   "cell_type": "markdown",
   "id": "southwest-banking",
   "metadata": {},
   "source": [
    "### Questions and expected answers for the report\n",
    "\n",
    "The questions listed below are related to Part 2.\n",
    "\n",
    "P2-QA. Copy and paste your SkipGram class code (Task #1 in this notebook).\n",
    "\n",
    "P2-QB. Copy and paste your train function (Task #2 in the notebook), along with any helper functions you might have used (e.g. a function to compute the accuracy of your model after each iteration).\n",
    "Please also copy and paste the function call with the parameters you used for the train() function.\n",
    "\n",
    "P2-QC. Why is the SkipGram model much more difficult to train than the CBoW?\n",
    "Is it problematic if it does not reach a 100% accuracy on the task it is being trained on?\n",
    "\n",
    "P2-QD. If we were to evaluate this model by using intrinsic methods, what could be a possible approach to do so?\n",
    "\n",
    "P2-QE. (Optional) Please submit any additional code you might that will demonstrate the performance/problems of the word embedding you have trained!"
   ]
  },
  {
   "cell_type": "markdown",
   "id": "517b9464",
   "metadata": {},
   "source": [
    "P2-QA:\n",
    "\n",
    "    class SkipGram(nn.Module):\n",
    "    \"\"\"\n",
    "        Your skipgram model here!\n",
    "    \"\"\"\n",
    "    \n",
    "    def __init__(self, context_size, embedding_dim, vocab_size):\n",
    "        super(SkipGram, self).__init__()\n",
    "        self.context_size = context_size\n",
    "        self.embeddings = nn.Embedding(vocab_size, embedding_dim)\n",
    "        self.linear1 = nn.Linear(embedding_dim, 128)\n",
    "        self.linear2 = nn.Linear(128, vocab_size)\n",
    "\n",
    "    def forward(self, inputs):\n",
    "        embeds = self.embeddings(inputs).view(1, -1) #reshape to 1-d vector\n",
    "        out = F.relu(self.linear1(embeds))\n",
    "        out = self.linear2(out)\n",
    "        out = F.log_softmax(out, dim=1)\n",
    "        log_probs = torch.cat([out]*self.context_size*2) # shared weights\n",
    "        log_probs = log_probs.view(2*self.context_size, -1)\n",
    "        return log_probs\n",
    "\n"
   ]
  },
  {
   "cell_type": "markdown",
   "id": "eb3a5439",
   "metadata": {},
   "source": [
    "P2-QB:\n",
    "    \n",
    "    def get_prediction(context, model, word2index, index2word):\n",
    "    \"\"\"\n",
    "    This is a helper function to get predictions from our model.\n",
    "    \"\"\"\n",
    "    # Get into eval() mode\n",
    "    model.eval()\n",
    "    ids = words_to_tensor([context], word2index, dtype = torch.LongTensor)\n",
    "    \n",
    "    # Forward pass\n",
    "    prediction = model(ids)\n",
    "    # top 4 predicted words\n",
    "    predicted_words = []\n",
    "    idx = torch.topk(prediction, 4).indices[0]\n",
    "    for index in idx:\n",
    "        predicted_words.append(index2word[index.item()])\n",
    "    \n",
    "    return predicted_words\n",
    "    \n",
    "    \n",
    "    \n",
    "    def check_accuracy(model, data, word2index, index2word):\n",
    "\n",
    "    # Compute accuracy\n",
    "    correct = 0\n",
    "    for context, target in data:\n",
    "        prediction = get_prediction(context, model, word2index, index2word)\n",
    "\n",
    "        for word in target:\n",
    "            if word in prediction:\n",
    "                correct += 1\n",
    "\n",
    "    return correct/(4 * len(data))\n",
    "    \n",
    "    \n",
    "    def train(data, word2index, model, epochs, loss_func, optimizer):\n",
    "    \"\"\"\n",
    "    This is a trainer function to train our SkipGram model.\n",
    "    \"\"\"\n",
    "    losses = []\n",
    "    accuracies = []\n",
    "    for epoch in range(epochs):\n",
    "        total_loss = 0\n",
    "        for context, target in data:\n",
    "\n",
    "            # Prepare data\n",
    "            ids = words_to_tensor([context], word2index, dtype = torch.LongTensor)\n",
    "            target = words_to_tensor(target, word2index, dtype = torch.LongTensor)\n",
    "\n",
    "            # Forward pass\n",
    "            model.zero_grad()\n",
    "            output = model(ids)\n",
    "            loss = loss_func(output, target)\n",
    "\n",
    "            # Backward pass and optimize\n",
    "            loss.backward()\n",
    "            optimizer.step()\n",
    "\n",
    "            # Loss update\n",
    "            total_loss += loss.data.item()\n",
    "\n",
    "        # Display\n",
    "        if epoch % 10 == 0:\n",
    "            accuracy = check_accuracy(model, data, word2index, index2word)\n",
    "            print(\"Accuracy after epoch {} is {}\".format(epoch, accuracy))\n",
    "            accuracies.append(accuracy)\n",
    "            losses.append(total_loss)\n",
    "            \n",
    "    return losses, accuracies, model\n",
    "\n",
    "    losses, accuracies, model = train(data, word2index, model, epochs, loss_func, optimizer)\n",
    "    \n",
    "    "
   ]
  },
  {
   "cell_type": "markdown",
   "id": "db4a83ab",
   "metadata": {},
   "source": [
    "P2-QC:\n",
    "\n",
    "CBoW model training predicts a single word from a fixed window size of context words but the SkipGram model tries to predict several context words from a single input word. Therefore, the SkipGram model is harder to train as it needs to get high probabilities for not just 1 right output word, but 2k output words that are contextually similar to the input word.\n",
    "\n",
    "No, because all we want are good embedding vectors for the window of words which is obtained if the context window has high probabilities towards the target word. These words need not be in the order of the top shortlisted words in the window."
   ]
  },
  {
   "attachments": {},
   "cell_type": "markdown",
   "id": "2d832ba9",
   "metadata": {},
   "source": [
    "P2-QD:\n",
    "\n",
    "Intrinsic methods would mean that we would need to rely on a human expert to judge whether the word embedding is good or not. Researchers have tried to come up with an “objective” metric to compute the similarity between two word embeddings vectors, such as the cosine similarity. A value close to 1 (resp. -1) indicate two vectors carrying a similar (resp. opposite) semantic meaning. A value 0 indicates two uncorrelated words.\n",
    "\n"
   ]
  },
  {
   "cell_type": "code",
   "execution_count": 49,
   "id": "85816198",
   "metadata": {},
   "outputs": [
    {
     "name": "stdout",
     "output_type": "stream",
     "text": [
      "tensor(0.0460, device='cuda:0', grad_fn=<DivBackward0>)\n",
      "tensor(-0.1483, device='cuda:0', grad_fn=<DivBackward0>)\n"
     ]
    }
   ],
   "source": [
    "cos = nn.CosineSimilarity(dim=0, eps=1e-6)\n",
    "print(cos(w1,w2)) # lion, simba\n",
    "print(cos(w1,w3)) # lion, daughter"
   ]
  },
  {
   "cell_type": "code",
   "execution_count": null,
   "id": "ee0b57d2",
   "metadata": {},
   "outputs": [],
   "source": []
  }
 ],
 "metadata": {
  "kernelspec": {
   "display_name": "Python 3 (ipykernel)",
   "language": "python",
   "name": "python3"
  },
  "language_info": {
   "codemirror_mode": {
    "name": "ipython",
    "version": 3
   },
   "file_extension": ".py",
   "mimetype": "text/x-python",
   "name": "python",
   "nbconvert_exporter": "python",
   "pygments_lexer": "ipython3",
   "version": "3.9.7"
  }
 },
 "nbformat": 4,
 "nbformat_minor": 5
}
