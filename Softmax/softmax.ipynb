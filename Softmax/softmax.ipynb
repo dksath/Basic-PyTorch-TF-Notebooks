{
 "cells": [
  {
   "cell_type": "markdown",
   "metadata": {},
   "source": [
    "# Softmax exercise\n",
    "\n",
    "*Complete and hand in this completed worksheet (including its outputs and any supporting code outside of the worksheet) with your assignment submission.*\n",
    "\n",
    "In this exercise, you will:\n",
    "\n",
    "- implement a fully-vectorized **loss function** for the Softmax classifier\n",
    "- implement the fully-vectorized expression for its **analytic gradient**\n",
    "- **check your implementation** with numerical gradient\n",
    "- use a validation set to **tune the learning rate and regularization** strength\n",
    "- **optimize** the loss function with **SGD**\n",
    "- **visualize** the final learned weights\n"
   ]
  },
  {
   "cell_type": "markdown",
   "metadata": {},
   "source": [
    "**Acknowledgement: This exercise is adapted from [Stanford CS231n](http://cs231n.stanford.edu/).**"
   ]
  },
  {
   "cell_type": "code",
   "execution_count": 1,
   "metadata": {},
   "outputs": [],
   "source": [
    "import random\n",
    "import numpy as np\n",
    "from data_utils import load_CIFAR10\n",
    "import matplotlib.pyplot as plt\n",
    "\n",
    "%matplotlib inline\n",
    "plt.rcParams['figure.figsize'] = (10.0, 8.0) # set default size of plots\n",
    "plt.rcParams['image.interpolation'] = 'nearest'\n",
    "plt.rcParams['image.cmap'] = 'gray'\n",
    "\n",
    "# for auto-reloading extenrnal modules\n",
    "# see http://stackoverflow.com/questions/1907993/autoreload-of-modules-in-ipython\n",
    "%load_ext autoreload\n",
    "%autoreload 2"
   ]
  },
  {
   "cell_type": "code",
   "execution_count": 2,
   "metadata": {},
   "outputs": [],
   "source": [
    "def rel_error(out, correct_out):\n",
    "    return np.sum(abs(out - correct_out) / (abs(out) + abs(correct_out)))"
   ]
  },
  {
   "cell_type": "code",
   "execution_count": 3,
   "metadata": {},
   "outputs": [
    {
     "name": "stdout",
     "output_type": "stream",
     "text": [
      "Train data shape:  (49000, 3073)\n",
      "Train labels shape:  (49000,)\n",
      "Validation data shape:  (1000, 3073)\n",
      "Validation labels shape:  (1000,)\n",
      "Test data shape:  (1000, 3073)\n",
      "Test labels shape:  (1000,)\n",
      "dev data shape:  (500, 3073)\n",
      "dev labels shape:  (500,)\n"
     ]
    }
   ],
   "source": [
    "def get_CIFAR10_data(num_training=49000, num_validation=1000, num_test=1000, num_dev=500):\n",
    "    \"\"\"\n",
    "    Load the CIFAR-10 dataset from disk and perform preprocessing to prepare\n",
    "    it for the linear classifier. These are the same steps as we used for the\n",
    "    Softmax, but condensed to a single function.  \n",
    "    \"\"\"\n",
    "    # Load the raw CIFAR-10 data\n",
    "    cifar10_dir = 'datasets/cifar-10-batches-py'\n",
    "    X_train, y_train, X_test, y_test = load_CIFAR10(cifar10_dir)\n",
    "\n",
    "    # subsample the data\n",
    "    mask = range(num_training, num_training + num_validation)\n",
    "    X_val = X_train[mask]\n",
    "    y_val = y_train[mask]\n",
    "    mask = range(num_training)\n",
    "    X_train = X_train[mask]\n",
    "    y_train = y_train[mask]\n",
    "    mask = range(num_test)\n",
    "    X_test = X_test[mask]\n",
    "    y_test = y_test[mask]\n",
    "    \n",
    "    # # We will also make a development set, which is a small subset of\n",
    "    # the training set.\n",
    "    mask = np.random.choice(num_training, num_dev, replace=False)\n",
    "    X_dev = X_train[mask]\n",
    "    y_dev = y_train[mask]\n",
    "\n",
    "    # Preprocessing: reshape the image data into rows\n",
    "    X_train = np.reshape(X_train, (X_train.shape[0], -1))\n",
    "    X_val = np.reshape(X_val, (X_val.shape[0], -1))\n",
    "    X_test = np.reshape(X_test, (X_test.shape[0], -1))\n",
    "    X_dev = np.reshape(X_dev, (X_dev.shape[0], -1))\n",
    "\n",
    "    # Normalize the data: subtract the mean image\n",
    "    mean_image = np.mean(X_train, axis = 0)\n",
    "    X_train -= mean_image\n",
    "    X_val -= mean_image\n",
    "    X_test -= mean_image\n",
    "    X_dev -= mean_image\n",
    "\n",
    "    # add bias dimension and transform into columns\n",
    "    X_train = np.hstack([X_train, np.ones((X_train.shape[0], 1))])\n",
    "    X_val = np.hstack([X_val, np.ones((X_val.shape[0], 1))])\n",
    "    X_test = np.hstack([X_test, np.ones((X_test.shape[0], 1))])\n",
    "    X_dev = np.hstack([X_dev, np.ones((X_dev.shape[0], 1))])\n",
    "\n",
    "    return X_train, y_train, X_val, y_val, X_test, y_test, X_dev, y_dev\n",
    "\n",
    "\n",
    "# Invoke the above function to get our data.\n",
    "X_train, y_train, X_val, y_val, X_test, y_test, X_dev, y_dev = get_CIFAR10_data()\n",
    "print('Train data shape: ', X_train.shape)\n",
    "print('Train labels shape: ', y_train.shape)\n",
    "print('Validation data shape: ', X_val.shape)\n",
    "print('Validation labels shape: ', y_val.shape)\n",
    "print('Test data shape: ', X_test.shape)\n",
    "print('Test labels shape: ', y_test.shape)\n",
    "print('dev data shape: ', X_dev.shape)\n",
    "print('dev labels shape: ', y_dev.shape)"
   ]
  },
  {
   "cell_type": "code",
   "execution_count": 4,
   "metadata": {},
   "outputs": [],
   "source": [
    "# Create one-hot vectors for label\n",
    "num_class = 10\n",
    "y_train_oh = np.zeros((y_train.shape[0], 10))\n",
    "y_train_oh[np.arange(y_train.shape[0]), y_train] = 1\n",
    "y_val_oh = np.zeros((y_val.shape[0], 10))\n",
    "y_val_oh[np.arange(y_val.shape[0]), y_val] = 1\n",
    "y_test_oh = np.zeros((y_test.shape[0], 10))\n",
    "y_test_oh[np.arange(y_test.shape[0]), y_test] = 1\n",
    "\n",
    "y_dev_oh = np.zeros((y_dev.shape[0], 10))\n",
    "y_dev_oh[np.arange(y_dev.shape[0]), y_dev] = 1"
   ]
  },
  {
   "cell_type": "markdown",
   "metadata": {},
   "source": [
    "# Regression as classifier\n",
    "The most simple and straightforward approach to learn a classifier is to map the input data (raw image values) to class label (one-hot vector). The loss function is defined as following: \n",
    "$$\\mathcal{L}=\\frac{1}{n}\\|\\mathbf{X}\\mathbf{W}-\\mathbf{y}\\|_F^2\\qquad\\qquad(1)$$\n",
    "Where:\n",
    "* $\\mathbf{W}\\in \\mathbb{R}^{(d+1)\\times C}$: Classifier weight\n",
    "* $\\mathbf{X}\\in \\mathbb{R}^{n\\times (d+1)}$: Dataset\n",
    "* $\\mathbf{y}\\in \\mathbb{R}^{n\\times C}$: Class label (one-hot vector)"
   ]
  },
  {
   "cell_type": "markdown",
   "metadata": {},
   "source": [
    "# Optimization\n",
    "Given the loss function (1), the next problem is how to solve the weight $\\mathbf{W}$. We now discuss 2 approaches: \n",
    " * Random search\n",
    " * Closed-form solution\n",
    "\n",
    "## Random search"
   ]
  },
  {
   "cell_type": "code",
   "execution_count": 5,
   "metadata": {},
   "outputs": [
    {
     "name": "stdout",
     "output_type": "stream",
     "text": [
      "in attempt 0 the loss was 31.646948, best 31.646948\n",
      "in attempt 1 the loss was 34.008923, best 31.646948\n",
      "in attempt 2 the loss was 37.093963, best 31.646948\n",
      "in attempt 3 the loss was 36.530236, best 31.646948\n",
      "in attempt 4 the loss was 34.392341, best 31.646948\n",
      "in attempt 5 the loss was 35.102759, best 31.646948\n",
      "in attempt 6 the loss was 32.668202, best 31.646948\n",
      "in attempt 7 the loss was 32.214424, best 31.646948\n",
      "in attempt 8 the loss was 34.549410, best 31.646948\n",
      "in attempt 9 the loss was 31.578647, best 31.578647\n",
      "in attempt 10 the loss was 33.946023, best 31.578647\n",
      "in attempt 11 the loss was 35.252005, best 31.578647\n",
      "in attempt 12 the loss was 34.363430, best 31.578647\n",
      "in attempt 13 the loss was 31.739588, best 31.578647\n",
      "in attempt 14 the loss was 34.230789, best 31.578647\n",
      "in attempt 15 the loss was 32.226306, best 31.578647\n",
      "in attempt 16 the loss was 32.191760, best 31.578647\n",
      "in attempt 17 the loss was 35.079365, best 31.578647\n",
      "in attempt 18 the loss was 35.081925, best 31.578647\n",
      "in attempt 19 the loss was 32.988724, best 31.578647\n",
      "in attempt 20 the loss was 32.818960, best 31.578647\n",
      "in attempt 21 the loss was 33.670704, best 31.578647\n",
      "in attempt 22 the loss was 33.811987, best 31.578647\n",
      "in attempt 23 the loss was 35.268279, best 31.578647\n",
      "in attempt 24 the loss was 32.524998, best 31.578647\n",
      "in attempt 25 the loss was 34.745619, best 31.578647\n",
      "in attempt 26 the loss was 30.797645, best 30.797645\n",
      "in attempt 27 the loss was 31.929377, best 30.797645\n",
      "in attempt 28 the loss was 32.808447, best 30.797645\n",
      "in attempt 29 the loss was 31.873468, best 30.797645\n",
      "in attempt 30 the loss was 34.827538, best 30.797645\n",
      "in attempt 31 the loss was 33.564244, best 30.797645\n",
      "in attempt 32 the loss was 33.020578, best 30.797645\n",
      "in attempt 33 the loss was 33.478551, best 30.797645\n",
      "in attempt 34 the loss was 35.949671, best 30.797645\n",
      "in attempt 35 the loss was 31.421600, best 30.797645\n",
      "in attempt 36 the loss was 32.676920, best 30.797645\n",
      "in attempt 37 the loss was 34.012656, best 30.797645\n",
      "in attempt 38 the loss was 32.388713, best 30.797645\n",
      "in attempt 39 the loss was 31.007192, best 30.797645\n",
      "in attempt 40 the loss was 34.393742, best 30.797645\n",
      "in attempt 41 the loss was 33.334930, best 30.797645\n",
      "in attempt 42 the loss was 33.225607, best 30.797645\n",
      "in attempt 43 the loss was 33.512755, best 30.797645\n",
      "in attempt 44 the loss was 34.074827, best 30.797645\n",
      "in attempt 45 the loss was 32.564844, best 30.797645\n",
      "in attempt 46 the loss was 34.448253, best 30.797645\n",
      "in attempt 47 the loss was 34.395739, best 30.797645\n",
      "in attempt 48 the loss was 36.757437, best 30.797645\n",
      "in attempt 49 the loss was 32.045727, best 30.797645\n",
      "in attempt 50 the loss was 38.332217, best 30.797645\n",
      "in attempt 51 the loss was 31.324367, best 30.797645\n",
      "in attempt 52 the loss was 32.303588, best 30.797645\n",
      "in attempt 53 the loss was 34.367892, best 30.797645\n",
      "in attempt 54 the loss was 35.144431, best 30.797645\n",
      "in attempt 55 the loss was 34.130066, best 30.797645\n",
      "in attempt 56 the loss was 34.230622, best 30.797645\n",
      "in attempt 57 the loss was 31.953963, best 30.797645\n",
      "in attempt 58 the loss was 34.968321, best 30.797645\n",
      "in attempt 59 the loss was 35.372038, best 30.797645\n",
      "in attempt 60 the loss was 34.026372, best 30.797645\n",
      "in attempt 61 the loss was 32.280270, best 30.797645\n",
      "in attempt 62 the loss was 36.925841, best 30.797645\n",
      "in attempt 63 the loss was 31.603271, best 30.797645\n",
      "in attempt 64 the loss was 31.871215, best 30.797645\n",
      "in attempt 65 the loss was 34.586772, best 30.797645\n",
      "in attempt 66 the loss was 36.134483, best 30.797645\n",
      "in attempt 67 the loss was 33.077824, best 30.797645\n",
      "in attempt 68 the loss was 34.574326, best 30.797645\n",
      "in attempt 69 the loss was 31.052882, best 30.797645\n",
      "in attempt 70 the loss was 36.139611, best 30.797645\n",
      "in attempt 71 the loss was 32.894288, best 30.797645\n",
      "in attempt 72 the loss was 30.797714, best 30.797645\n",
      "in attempt 73 the loss was 34.740489, best 30.797645\n",
      "in attempt 74 the loss was 33.651901, best 30.797645\n",
      "in attempt 75 the loss was 33.284834, best 30.797645\n",
      "in attempt 76 the loss was 34.038722, best 30.797645\n",
      "in attempt 77 the loss was 31.285261, best 30.797645\n",
      "in attempt 78 the loss was 34.206383, best 30.797645\n",
      "in attempt 79 the loss was 32.988481, best 30.797645\n",
      "in attempt 80 the loss was 34.219089, best 30.797645\n",
      "in attempt 81 the loss was 33.479736, best 30.797645\n",
      "in attempt 82 the loss was 31.059631, best 30.797645\n",
      "in attempt 83 the loss was 33.109615, best 30.797645\n",
      "in attempt 84 the loss was 35.419799, best 30.797645\n",
      "in attempt 85 the loss was 33.375349, best 30.797645\n",
      "in attempt 86 the loss was 34.854809, best 30.797645\n",
      "in attempt 87 the loss was 36.083109, best 30.797645\n",
      "in attempt 88 the loss was 34.652516, best 30.797645\n",
      "in attempt 89 the loss was 34.575511, best 30.797645\n",
      "in attempt 90 the loss was 33.407179, best 30.797645\n",
      "in attempt 91 the loss was 29.729416, best 29.729416\n",
      "in attempt 92 the loss was 34.818540, best 29.729416\n",
      "in attempt 93 the loss was 33.306617, best 29.729416\n",
      "in attempt 94 the loss was 32.641330, best 29.729416\n",
      "in attempt 95 the loss was 34.379827, best 29.729416\n",
      "in attempt 96 the loss was 37.666729, best 29.729416\n",
      "in attempt 97 the loss was 33.581988, best 29.729416\n",
      "in attempt 98 the loss was 33.696833, best 29.729416\n",
      "in attempt 99 the loss was 34.947318, best 29.729416\n"
     ]
    }
   ],
   "source": [
    "bestloss = float('inf')\n",
    "for num in range(100):\n",
    "    W = np.random.randn(3073, 10) * 0.0001\n",
    "    loss = np.linalg.norm(X_dev.dot(W) - y_dev_oh)\n",
    "    if (loss < bestloss):\n",
    "        bestloss = loss\n",
    "        bestW = W\n",
    "    print('in attempt %d the loss was %f, best %f' % (num, loss, bestloss))"
   ]
  },
  {
   "cell_type": "code",
   "execution_count": 6,
   "metadata": {},
   "outputs": [
    {
     "name": "stdout",
     "output_type": "stream",
     "text": [
      "Accuracy on train set:  8.4\n",
      "Accuracy on test set:  9.0\n"
     ]
    }
   ],
   "source": [
    "# How bestW perform:\n",
    "print('Accuracy on train set: ', np.sum(np.argmin(np.abs(1 - X_dev.dot(W)), axis=1) == y_dev).astype(np.float32)/y_dev.shape[0]*100)\n",
    "print('Accuracy on test set: ', np.sum(np.argmin(np.abs(1 - X_test.dot(W)), axis=1) == y_test).astype(np.float32)/y_test.shape[0]*100)"
   ]
  },
  {
   "cell_type": "markdown",
   "metadata": {},
   "source": [
    "You can clearly see that the performance is very low, almost at the random level."
   ]
  },
  {
   "cell_type": "markdown",
   "metadata": {},
   "source": [
    "## Closed-form solution\n",
    "The closed-form solution is achieved by:\n",
    "$$\\frac{\\partial\\mathcal{L}}{\\partial \\mathbf{W}}=\\frac{2}{n}\\mathbf{X}^T(\\mathbf{X}\\mathbf{W}-\\mathbf{y})=0$$\n",
    "\n",
    "$$\\Leftrightarrow\\mathbf{W}^\\ast=(\\mathbf{X}^T\\mathbf{X})^{-1}\\mathbf{X}^T\\mathbf{y}$$"
   ]
  },
  {
   "cell_type": "code",
   "execution_count": 7,
   "metadata": {},
   "outputs": [],
   "source": [
    "################################################################################\n",
    "# TODO:                                                                        #\n",
    "# Implement the closed-form solution of the weight W.                          #\n",
    "################################################################################\n",
    "W = np.linalg.inv(X_train.T.dot(X_train)).dot(X_train.T.dot(y_train_oh))\n",
    "################################################################################\n",
    "#                              END OF YOUR CODE                                #\n",
    "################################################################################"
   ]
  },
  {
   "cell_type": "code",
   "execution_count": 8,
   "metadata": {},
   "outputs": [
    {
     "name": "stdout",
     "output_type": "stream",
     "text": [
      "Train set accuracy:  51.163265306122454\n",
      "Test set accuracy:  36.199999999999996\n"
     ]
    }
   ],
   "source": [
    "# Check accuracy:\n",
    "print('Train set accuracy: ', np.sum(np.argmin(np.abs(1 - X_train.dot(W)), axis=1) == y_train).astype(np.float32)/y_train.shape[0]*100)\n",
    "print('Test set accuracy: ', np.sum(np.argmin(np.abs(1 - X_test.dot(W)), axis=1) == y_test).astype(np.float32)/y_test.shape[0]*100)"
   ]
  },
  {
   "cell_type": "markdown",
   "metadata": {},
   "source": [
    "Now, you can see that the performance is much better."
   ]
  },
  {
   "cell_type": "markdown",
   "metadata": {},
   "source": [
    "## Regularization\n",
    "A simple way to improve performance is to include the L2-regularization penalty.\n",
    "$$\\mathcal{L}=\\frac{1}{n}\\|\\mathbf{X}\\mathbf{W}-\\mathbf{y}\\|_F^2 +\\lambda \\|\\mathbf{W}\\|_F^2 \\qquad\\qquad(2)$$\n",
    "The closed-form solution now is: \n",
    "$$\\Leftrightarrow\\mathbf{W}^\\ast=(\\mathbf{X}^T\\mathbf{X}+\\lambda n\\mathbf{I})^{-1}\\mathbf{X}^T\\mathbf{y}$$"
   ]
  },
  {
   "cell_type": "code",
   "execution_count": 9,
   "metadata": {},
   "outputs": [],
   "source": [
    "# try several values of lambda to see how it helps:\n",
    "lambdas = [0.01, 0.1, 1, 10, 100, 1000, 10000, 100000]\n",
    "train_acc = np.zeros((len(lambdas)))\n",
    "test_acc = np.zeros((len(lambdas)))\n",
    "for i in range(len(lambdas)):\n",
    "    l = lambdas[i]\n",
    "    n,d = X_train.shape[0], X_train.shape[1]\n",
    "    ################################################################################\n",
    "    # TODO:                                                                        #\n",
    "    # Implement the closed-form solution of the weight W with regularization.      #\n",
    "    ################################################################################\n",
    "    W = X_train.T.dot(X_train)\n",
    "    W = np.linalg.inv(W + (l * n * np.eye(W.shape[0])))\n",
    "    W = W.dot(X_train.T.dot(y_train_oh))\n",
    "    ################################################################################\n",
    "    #                              END OF YOUR CODE                                #\n",
    "    ################################################################################\n",
    "    train_acc[i] = np.sum(np.argmin(np.abs(1 - X_train.dot(W)), axis=1) == y_train).astype(np.float32)/y_train.shape[0]*100\n",
    "    test_acc[i]  = np.sum(np.argmin(np.abs(1 - X_test.dot(W)), axis=1) == y_test).astype(np.float32)/y_test.shape[0]*100"
   ]
  },
  {
   "cell_type": "code",
   "execution_count": 10,
   "metadata": {},
   "outputs": [
    {
     "data": {
      "image/png": "[encoded data removed]",
      "text/plain": [
       "<Figure size 720x576 with 1 Axes>"
      ]
     },
     "metadata": {
      "needs_background": "light"
     },
     "output_type": "display_data"
    }
   ],
   "source": [
    "plt.semilogx(lambdas, train_acc, 'r', label=\"Training accuracy\")\n",
    "plt.semilogx(lambdas, test_acc, 'g', label=\"Testing accuracy\")\n",
    "\n",
    "plt.legend()\n",
    "plt.grid(True)\n",
    "plt.show()"
   ]
  },
  {
   "cell_type": "markdown",
   "metadata": {},
   "source": [
    "**Question:** Try to explain why the performances on the training and test set have such behaviors as we change the value of $\\lambda$."
   ]
  },
  {
   "cell_type": "markdown",
   "metadata": {},
   "source": [
    "**Your answer:** The regularization parameter 𝜆 compensates for overfitting in the training examples by introducing a penalty in the loss function. Therefore as 𝜆 increases there is an decrease in its training accuracy while as we move towards an optimal 𝜆, the test accuracy increases to a certain point. Howver after that point, the penalty is too high when updating the weights causing a fall in accuracy in the test examples as well."
   ]
  },
  {
   "cell_type": "markdown",
   "metadata": {},
   "source": [
    "## Softmax Classifier\n",
    "\n",
    "The predicted probability for the $j$-th class given a sample vector $x$ and a weight $W$ is:\n",
    "\n",
    "$$\\displaystyle{P(y=j\\mid x)=\\frac{e^{-xw_j}}{\\sum\\limits_{c=1}^{C}e^{-xw_c}}}$$ \n",
    "\n",
    "![softmax](imgs/softmax.png \"Example of Softmax\")\n",
    "\n",
    "Your code for this section will all be written inside **classifiers/softmax.py**. \n"
   ]
  },
  {
   "cell_type": "code",
   "execution_count": 13,
   "metadata": {
    "scrolled": true
   },
   "outputs": [
    {
     "name": "stdout",
     "output_type": "stream",
     "text": [
      "loss: 2.350621\n",
      "sanity check: 2.302585\n"
     ]
    }
   ],
   "source": [
    "# First implement the naive softmax loss function with nested loops.\n",
    "# Open the file classifiers/softmax.py and implement the\n",
    "# softmax_loss_naive function.\n",
    "\n",
    "from classifiers.softmax import softmax_loss_naive\n",
    "import time\n",
    "\n",
    "# Generate a random softmax weight matrix and use it to compute the loss.\n",
    "W = np.random.randn(3073, 10) * 0.0001\n",
    "loss, grad = softmax_loss_naive(W, X_dev, y_dev, 0.0)\n",
    "\n",
    "# As a rough sanity check, our loss should be something close to -log(0.1).\n",
    "print('loss: %f' % loss)\n",
    "print('sanity check: %f' % (-np.log(0.1)))"
   ]
  },
  {
   "cell_type": "markdown",
   "metadata": {},
   "source": [
    "**Question:** Why do we expect our loss to be close to -log(0.1)? Explain briefly.**"
   ]
  },
  {
   "cell_type": "markdown",
   "metadata": {},
   "source": [
    "**Your answer:** There are 10 classes and the probabilty for a class to be the ground-truth class would be 0.1. Hence, the loss for random searching should be close to -log(0.1)"
   ]
  },
  {
   "cell_type": "markdown",
   "metadata": {},
   "source": [
    "# Optimization\n",
    "\n",
    "\n",
    "## Random search"
   ]
  },
  {
   "cell_type": "code",
   "execution_count": 14,
   "metadata": {},
   "outputs": [
    {
     "name": "stdout",
     "output_type": "stream",
     "text": [
      "in attempt 0 the loss was 2.346179, best 2.346179\n",
      "in attempt 1 the loss was 2.351812, best 2.346179\n",
      "in attempt 2 the loss was 2.304880, best 2.304880\n",
      "in attempt 3 the loss was 2.262815, best 2.262815\n",
      "in attempt 4 the loss was 2.417005, best 2.262815\n",
      "in attempt 5 the loss was 2.331234, best 2.262815\n",
      "in attempt 6 the loss was 2.311196, best 2.262815\n",
      "in attempt 7 the loss was 2.318043, best 2.262815\n",
      "in attempt 8 the loss was 2.274020, best 2.262815\n",
      "in attempt 9 the loss was 2.382983, best 2.262815\n",
      "in attempt 10 the loss was 2.405071, best 2.262815\n",
      "in attempt 11 the loss was 2.378609, best 2.262815\n",
      "in attempt 12 the loss was 2.345328, best 2.262815\n",
      "in attempt 13 the loss was 2.395356, best 2.262815\n",
      "in attempt 14 the loss was 2.387060, best 2.262815\n",
      "in attempt 15 the loss was 2.403402, best 2.262815\n",
      "in attempt 16 the loss was 2.401419, best 2.262815\n",
      "in attempt 17 the loss was 2.295298, best 2.262815\n",
      "in attempt 18 the loss was 2.297233, best 2.262815\n",
      "in attempt 19 the loss was 2.305519, best 2.262815\n",
      "in attempt 20 the loss was 2.338854, best 2.262815\n",
      "in attempt 21 the loss was 2.356137, best 2.262815\n",
      "in attempt 22 the loss was 2.372829, best 2.262815\n",
      "in attempt 23 the loss was 2.343593, best 2.262815\n",
      "in attempt 24 the loss was 2.392668, best 2.262815\n",
      "in attempt 25 the loss was 2.383637, best 2.262815\n",
      "in attempt 26 the loss was 2.337435, best 2.262815\n",
      "in attempt 27 the loss was 2.338166, best 2.262815\n",
      "in attempt 28 the loss was 2.352747, best 2.262815\n",
      "in attempt 29 the loss was 2.438777, best 2.262815\n",
      "in attempt 30 the loss was 2.328003, best 2.262815\n",
      "in attempt 31 the loss was 2.364642, best 2.262815\n",
      "in attempt 32 the loss was 2.336120, best 2.262815\n",
      "in attempt 33 the loss was 2.350209, best 2.262815\n",
      "in attempt 34 the loss was 2.313322, best 2.262815\n",
      "in attempt 35 the loss was 2.374541, best 2.262815\n",
      "in attempt 36 the loss was 2.344926, best 2.262815\n",
      "in attempt 37 the loss was 2.312077, best 2.262815\n",
      "in attempt 38 the loss was 2.395869, best 2.262815\n",
      "in attempt 39 the loss was 2.403531, best 2.262815\n",
      "in attempt 40 the loss was 2.323386, best 2.262815\n",
      "in attempt 41 the loss was 2.428796, best 2.262815\n",
      "in attempt 42 the loss was 2.379578, best 2.262815\n",
      "in attempt 43 the loss was 2.412333, best 2.262815\n",
      "in attempt 44 the loss was 2.351020, best 2.262815\n",
      "in attempt 45 the loss was 2.391164, best 2.262815\n",
      "in attempt 46 the loss was 2.396949, best 2.262815\n",
      "in attempt 47 the loss was 2.333226, best 2.262815\n",
      "in attempt 48 the loss was 2.375310, best 2.262815\n",
      "in attempt 49 the loss was 2.362124, best 2.262815\n",
      "in attempt 50 the loss was 2.352665, best 2.262815\n",
      "in attempt 51 the loss was 2.348217, best 2.262815\n",
      "in attempt 52 the loss was 2.328266, best 2.262815\n",
      "in attempt 53 the loss was 2.346669, best 2.262815\n",
      "in attempt 54 the loss was 2.342626, best 2.262815\n",
      "in attempt 55 the loss was 2.300102, best 2.262815\n",
      "in attempt 56 the loss was 2.358637, best 2.262815\n",
      "in attempt 57 the loss was 2.337587, best 2.262815\n",
      "in attempt 58 the loss was 2.359386, best 2.262815\n",
      "in attempt 59 the loss was 2.397125, best 2.262815\n",
      "in attempt 60 the loss was 2.277193, best 2.262815\n",
      "in attempt 61 the loss was 2.393318, best 2.262815\n",
      "in attempt 62 the loss was 2.384012, best 2.262815\n",
      "in attempt 63 the loss was 2.342260, best 2.262815\n",
      "in attempt 64 the loss was 2.353040, best 2.262815\n",
      "in attempt 65 the loss was 2.367611, best 2.262815\n",
      "in attempt 66 the loss was 2.320883, best 2.262815\n",
      "in attempt 67 the loss was 2.339536, best 2.262815\n",
      "in attempt 68 the loss was 2.359385, best 2.262815\n",
      "in attempt 69 the loss was 2.417828, best 2.262815\n",
      "in attempt 70 the loss was 2.372812, best 2.262815\n",
      "in attempt 71 the loss was 2.400610, best 2.262815\n",
      "in attempt 72 the loss was 2.383270, best 2.262815\n",
      "in attempt 73 the loss was 2.428583, best 2.262815\n",
      "in attempt 74 the loss was 2.287747, best 2.262815\n",
      "in attempt 75 the loss was 2.374516, best 2.262815\n",
      "in attempt 76 the loss was 2.339635, best 2.262815\n",
      "in attempt 77 the loss was 2.318416, best 2.262815\n",
      "in attempt 78 the loss was 2.385256, best 2.262815\n",
      "in attempt 79 the loss was 2.377160, best 2.262815\n",
      "in attempt 80 the loss was 2.317216, best 2.262815\n",
      "in attempt 81 the loss was 2.421459, best 2.262815\n",
      "in attempt 82 the loss was 2.287018, best 2.262815\n",
      "in attempt 83 the loss was 2.362835, best 2.262815\n",
      "in attempt 84 the loss was 2.345498, best 2.262815\n",
      "in attempt 85 the loss was 2.329448, best 2.262815\n",
      "in attempt 86 the loss was 2.386530, best 2.262815\n",
      "in attempt 87 the loss was 2.344345, best 2.262815\n",
      "in attempt 88 the loss was 2.366561, best 2.262815\n",
      "in attempt 89 the loss was 2.327520, best 2.262815\n",
      "in attempt 90 the loss was 2.352506, best 2.262815\n",
      "in attempt 91 the loss was 2.381681, best 2.262815\n",
      "in attempt 92 the loss was 2.343357, best 2.262815\n",
      "in attempt 93 the loss was 2.373196, best 2.262815\n",
      "in attempt 94 the loss was 2.344916, best 2.262815\n",
      "in attempt 95 the loss was 2.379197, best 2.262815\n",
      "in attempt 96 the loss was 2.301495, best 2.262815\n",
      "in attempt 97 the loss was 2.368075, best 2.262815\n",
      "in attempt 98 the loss was 2.377312, best 2.262815\n",
      "in attempt 99 the loss was 2.379633, best 2.262815\n"
     ]
    }
   ],
   "source": [
    "bestloss = float('inf')\n",
    "for num in range(100):\n",
    "    W = np.random.randn(3073, 10) * 0.0001\n",
    "    loss, _ = softmax_loss_naive(W, X_dev, y_dev, 0.0)\n",
    "    if (loss < bestloss):\n",
    "        bestloss = loss\n",
    "        bestW = W\n",
    "    print('in attempt %d the loss was %f, best %f' % (num, loss, bestloss))"
   ]
  },
  {
   "cell_type": "code",
   "execution_count": 15,
   "metadata": {},
   "outputs": [
    {
     "name": "stdout",
     "output_type": "stream",
     "text": [
      "Accuracy on train set 0.159245\n",
      "Accuracy on test set 0.171000\n"
     ]
    }
   ],
   "source": [
    "# How bestW perform on trainset\n",
    "scores = X_train.dot(bestW)\n",
    "y_pred = np.argmax(scores, axis=1)\n",
    "print('Accuracy on train set %f' % np.mean(y_pred == y_train))\n",
    "\n",
    "# evaluate performance of test set\n",
    "scores = X_test.dot(bestW)\n",
    "y_pred = np.argmax(scores, axis=1)\n",
    "print('Accuracy on test set %f' % np.mean(y_pred == y_test))"
   ]
  },
  {
   "cell_type": "markdown",
   "metadata": {},
   "source": [
    "Compare the performance when using random search with *regression classifier* and *softmax classifier*. You can see how much useful the softmax classifier is."
   ]
  },
  {
   "cell_type": "markdown",
   "metadata": {},
   "source": [
    "## Stochastic Gradient descent\n",
    "Even though it is possible to achieve closed-form solution with softmax classifier, it would be more complicated. In fact, we could achieve very good results with gradient descent approach. Additionally, in case of very large dataset, it is impossible to load the whole dataset into the memory. Gradient descent can help to optimize the loss function in batch. \n",
    "\n",
    "$$\\mathbf{W}^{t+1}=\\mathbf{W}^{t}−\\alpha \\frac{\\partial\\mathcal{L(\\mathbf{x};\\mathbf{W}^{t})}}{\\partial\\mathbf{W}^{t}}$$\n",
    "\n",
    "Where $\\alpha$ is the learning rate, $\\mathcal{L}$ is a loss function, and $\\mathbf{x}$ is a batch of training dataset."
   ]
  },
  {
   "cell_type": "code",
   "execution_count": 16,
   "metadata": {},
   "outputs": [
    {
     "name": "stdout",
     "output_type": "stream",
     "text": [
      "numerical: 0.037678 analytic: 0.037678, relative error: 1.396159e-06\n",
      "numerical: -0.674141 analytic: -0.674141, relative error: 9.114512e-09\n",
      "numerical: -1.477780 analytic: -1.477780, relative error: 3.556684e-09\n",
      "numerical: 6.554071 analytic: 6.554071, relative error: 1.446550e-08\n",
      "numerical: -1.233332 analytic: -1.233332, relative error: 7.925469e-09\n",
      "numerical: 1.485715 analytic: 1.485715, relative error: 6.347583e-08\n",
      "numerical: 3.297879 analytic: 3.297879, relative error: 3.526046e-08\n",
      "numerical: 2.983203 analytic: 2.983203, relative error: 2.706680e-09\n",
      "numerical: -0.215564 analytic: -0.215564, relative error: 6.702050e-09\n",
      "numerical: 0.498396 analytic: 0.498396, relative error: 5.755922e-08\n",
      "numerical: 1.351679 analytic: 1.351679, relative error: 7.027422e-09\n",
      "numerical: 0.386922 analytic: 0.386922, relative error: 1.622620e-07\n",
      "numerical: 4.262728 analytic: 4.262728, relative error: 7.455098e-09\n",
      "numerical: 0.545613 analytic: 0.545613, relative error: 5.196671e-08\n",
      "numerical: 1.189124 analytic: 1.189124, relative error: 2.962051e-08\n",
      "numerical: 1.898937 analytic: 1.898937, relative error: 2.723462e-08\n",
      "numerical: 0.513493 analytic: 0.513493, relative error: 5.892753e-08\n",
      "numerical: -1.432516 analytic: -1.432516, relative error: 2.518735e-09\n",
      "numerical: -2.212356 analytic: -2.212356, relative error: 2.626736e-09\n",
      "numerical: 1.329182 analytic: 1.329182, relative error: 1.526368e-08\n"
     ]
    }
   ],
   "source": [
    "# Complete the implementation of softmax_loss_naive and implement a (naive)\n",
    "# version of the gradient that uses nested loops.\n",
    "loss, grad = softmax_loss_naive(W, X_dev, y_dev, 0.0)\n",
    "\n",
    "# Use numeric gradient checking as a debugging tool.\n",
    "# The numeric gradient should be close to the analytic gradient.\n",
    "from gradient_check import grad_check_sparse\n",
    "f = lambda w: softmax_loss_naive(w, X_dev, y_dev, 0.0)[0]\n",
    "grad_numerical = grad_check_sparse(f, W, grad, 10)\n",
    "\n",
    "# gradient check with regularization\n",
    "loss, grad = softmax_loss_naive(W, X_dev, y_dev, 1e2)\n",
    "f = lambda w: softmax_loss_naive(w, X_dev, y_dev, 1e2)[0]\n",
    "grad_numerical = grad_check_sparse(f, W, grad, 10)"
   ]
  },
  {
   "cell_type": "code",
   "execution_count": 17,
   "metadata": {},
   "outputs": [
    {
     "name": "stdout",
     "output_type": "stream",
     "text": [
      "naive loss: 2.379633e+00 computed in 0.759134s\n",
      "vectorized loss: 2.379633e+00 computed in 0.002994s\n",
      "Loss difference: 0.000000\n",
      "Gradient difference: 0.000000\n"
     ]
    }
   ],
   "source": [
    "# Now that we have a naive implementation of the softmax loss function and its gradient,\n",
    "# implement a vectorized version in softmax_loss_vectorized.\n",
    "# The two versions should compute the same results, but the vectorized version should be\n",
    "# much faster.\n",
    "tic = time.time()\n",
    "loss_naive, grad_naive = softmax_loss_naive(W, X_dev, y_dev, 0.00001)\n",
    "toc = time.time()\n",
    "print('naive loss: %e computed in %fs' % (loss_naive, toc - tic))\n",
    "\n",
    "from classifiers.softmax import softmax_loss_vectorized\n",
    "tic = time.time()\n",
    "loss_vectorized, grad_vectorized = softmax_loss_vectorized(W, X_dev, y_dev, 0.00001)\n",
    "toc = time.time()\n",
    "print('vectorized loss: %e computed in %fs' % (loss_vectorized, toc - tic))\n",
    "\n",
    "# We use the Frobenius norm to compare the two versions\n",
    "# of the gradient.\n",
    "grad_difference = np.linalg.norm(grad_naive - grad_vectorized, ord='fro')\n",
    "print('Loss difference: %f' % np.abs(loss_naive - loss_vectorized))\n",
    "print('Gradient difference: %f' % grad_difference)"
   ]
  },
  {
   "cell_type": "code",
   "execution_count": 20,
   "metadata": {},
   "outputs": [
    {
     "name": "stdout",
     "output_type": "stream",
     "text": [
      "iteration 0 / 1500: loss 1561.750528\n",
      "iteration 100 / 1500: loss 210.226041\n",
      "iteration 200 / 1500: loss 29.963198\n",
      "iteration 300 / 1500: loss 5.845058\n",
      "iteration 400 / 1500: loss 2.589247\n",
      "iteration 500 / 1500: loss 2.272963\n",
      "iteration 600 / 1500: loss 2.148371\n",
      "iteration 700 / 1500: loss 2.160891\n",
      "iteration 800 / 1500: loss 2.134328\n",
      "iteration 900 / 1500: loss 2.194744\n",
      "iteration 1000 / 1500: loss 2.124950\n",
      "iteration 1100 / 1500: loss 2.132936\n",
      "iteration 1200 / 1500: loss 2.208860\n",
      "iteration 1300 / 1500: loss 2.103605\n",
      "iteration 1400 / 1500: loss 2.089449\n",
      "That took 5.934543s\n"
     ]
    }
   ],
   "source": [
    "from classifiers.linear_classifier import *\n",
    "\n",
    "classifier = Softmax()\n",
    "tic = time.time()\n",
    "loss_hist = classifier.train(X_train, y_train, learning_rate=1e-7, reg=5e4,\n",
    "                                  num_iters=1500, verbose=True)\n",
    "toc = time.time()\n",
    "print('That took %fs' % (toc - tic))"
   ]
  },
  {
   "cell_type": "code",
   "execution_count": 21,
   "metadata": {},
   "outputs": [
    {
     "name": "stdout",
     "output_type": "stream",
     "text": [
      "training accuracy: 0.306143\n",
      "validation accuracy: 0.329000\n"
     ]
    }
   ],
   "source": [
    "# Write the Softmax.predict function and evaluate the performance on both the\n",
    "# training and validation set\n",
    "y_train_pred = classifier.predict(X_train)\n",
    "print('training accuracy: %f' % (np.mean(y_train == y_train_pred), ))\n",
    "y_val_pred = classifier.predict(X_val)\n",
    "print('validation accuracy: %f' % (np.mean(y_val == y_val_pred), ))"
   ]
  },
  {
   "cell_type": "code",
   "execution_count": 22,
   "metadata": {},
   "outputs": [
    {
     "data": {
      "image/png": "[encoded data removed]",
      "text/plain": [
       "<Figure size 720x576 with 1 Axes>"
      ]
     },
     "metadata": {
      "needs_background": "light"
     },
     "output_type": "display_data"
    }
   ],
   "source": [
    "# A useful debugging strategy is to plot the loss as a function of\n",
    "# iteration number:\n",
    "plt.plot(loss_hist)\n",
    "plt.xlabel('Iteration number')\n",
    "plt.ylabel('Loss value')\n",
    "plt.show()"
   ]
  },
  {
   "cell_type": "code",
   "execution_count": 23,
   "metadata": {},
   "outputs": [
    {
     "name": "stdout",
     "output_type": "stream",
     "text": [
      "softmax on raw pixels final test set accuracy: 32.00\n"
     ]
    }
   ],
   "source": [
    "# evaluate on test set\n",
    "# Evaluate the best softmax on test set\n",
    "y_test_pred = classifier.predict(X_test)\n",
    "test_accuracy = np.mean(y_test == y_test_pred)\n",
    "print('softmax on raw pixels final test set accuracy: %.2f' % (100*test_accuracy, ))"
   ]
  },
  {
   "cell_type": "code",
   "execution_count": null,
   "metadata": {},
   "outputs": [],
   "source": []
  }
 ],
 "metadata": {
  "anaconda-cloud": {},
  "kernelspec": {
   "display_name": "Python 3 (ipykernel)",
   "language": "python",
   "name": "python3"
  },
  "language_info": {
   "codemirror_mode": {
    "name": "ipython",
    "version": 3
   },
   "file_extension": ".py",
   "mimetype": "text/x-python",
   "name": "python",
   "nbconvert_exporter": "python",
   "pygments_lexer": "ipython3",
   "version": "3.9.7"
  }
 },
 "nbformat": 4,
 "nbformat_minor": 1
}
